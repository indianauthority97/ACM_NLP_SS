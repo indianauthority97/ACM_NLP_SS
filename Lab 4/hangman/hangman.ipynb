{
 "cells": [
  {
   "cell_type": "markdown",
   "metadata": {},
   "source": [
    "## Language Models\n",
    "\n",
    "- Machine Translation\n",
    "- Spell Correction\n",
    "- Speech Recognition\n",
    "- Summarisation, Q & A\n",
    "\n",
    "\n",
    "### Formulations\n",
    "\n",
    "- How likely a sentence is well formed\n",
    "$$ P(S) = P(w_1,w_2,w_3,.....,w_n) $$\n",
    "\n",
    "- Predict the next word - Mobile Keyboards\n",
    "    $$ P(w_5 |  w_1,w_2,w_3,w_4)  $$"
   ]
  },
  {
   "cell_type": "markdown",
   "metadata": {},
   "source": [
    "## The Hangman Game"
   ]
  },
  {
   "cell_type": "markdown",
   "metadata": {},
   "source": [
    "The <a href=\"https://en.wikipedia.org/wiki/Hangman_(game)\">Hangman game</a> is a simple game whereby one person thinks of a word, which they keep secret from their opponent, who tries to guess the word one character at a time. The game ends when the opponent makes more than a fixed number of incorrect guesses, or they figure out the secret word before then (in which case they *win*). \n",
    "\n",
    "Here's a simple version of the game, and a method allowing interactive play. \n",
    "\n",
    "Predict one character at a time, for a word to be predicted\n",
    "\n",
    "- Predict one character at a time - Mobile Keyboards\n",
    "    $$ P(c_5 |  c_1,c_2,c_3,c_4)  $$\n",
    "\n",
    "The description and the methods **`hangman`** and **`human`** is obtained from University of Melbourne, from the course [Web Search and Text Analysis](http://people.eng.unimelb.edu.au/tcohn/comp90042.html)\n"
   ]
  },
  {
   "cell_type": "code",
   "execution_count": null,
   "metadata": {
    "collapsed": true
   },
   "outputs": [],
   "source": [
    "# allowing better python 2 & python 3 compatibility \n",
    "from __future__ import print_function \n",
    "\n",
    "def hangman(secret_word, guesser, max_mistakes=8, verbose=True):\n",
    "    secret_word = secret_word.lower()\n",
    "    mask = ['_'] * len(secret_word)\n",
    "    guessed = set()\n",
    "    if verbose:\n",
    "        print(\"Starting hangman game. Target is\", ' '.join(mask), 'length', len(secret_word))\n",
    "    \n",
    "    mistakes = 0\n",
    "    while mistakes < max_mistakes:\n",
    "        if verbose:\n",
    "            print(\"You have\", (max_mistakes-mistakes), \"attempts remaining.\")\n",
    "        guess = guesser(mask, guessed)\n",
    "\n",
    "        if verbose:\n",
    "            print('Guess is', guess)\n",
    "        if guess in guessed:\n",
    "            if verbose:\n",
    "                print('Already guessed this before.')\n",
    "            mistakes += 1\n",
    "        else:\n",
    "            try:\n",
    "                guessed.add(guess)\n",
    "            except:\n",
    "                print(guessed,guess)\n",
    "            if guess in secret_word:\n",
    "                for i, c in enumerate(secret_word):\n",
    "                    if c == guess:\n",
    "                        mask[i] = c\n",
    "                if verbose:\n",
    "                    print('Good guess:', ' '.join(mask))\n",
    "            else:\n",
    "                if verbose:\n",
    "                    print('Sorry, try again.')\n",
    "                mistakes += 1\n",
    "                \n",
    "        if '_' not in mask:\n",
    "            if verbose:\n",
    "                print('Congratulations, you won.')\n",
    "            return mistakes\n",
    "        \n",
    "    if verbose:\n",
    "        print('Out of guesses. The word was', secret_word)    \n",
    "    return mistakes\n",
    "\n",
    "def human(mask, guessed):\n",
    "    print('Enter your guess:')\n",
    "    return raw_input().lower().strip()\n",
    "    #return input().lower().strip() # swap with above for python 3\n"
   ]
  },
  {
   "cell_type": "code",
   "execution_count": null,
   "metadata": {},
   "outputs": [],
   "source": [
    "hangman('whatever', human, 8, True)"
   ]
  },
  {
   "cell_type": "markdown",
   "metadata": {},
   "source": [
    "## Loading the dataset"
   ]
  },
  {
   "cell_type": "code",
   "execution_count": null,
   "metadata": {},
   "outputs": [],
   "source": [
    "f = open('corncob_lowercase.txt').read().splitlines()\n",
    "f[:10]"
   ]
  },
  {
   "cell_type": "code",
   "execution_count": null,
   "metadata": {},
   "outputs": [],
   "source": [
    "test = set()\n",
    "for i,item in enumerate(f):\n",
    "    if i%58 == 0:\n",
    "        test.add(item)\n",
    "    if len(test) == 1000:\n",
    "        break\n",
    "        \n",
    "train = set(f) - test\n",
    "\n",
    "len(train), len(test)"
   ]
  },
  {
   "cell_type": "markdown",
   "metadata": {},
   "source": [
    "## Randomly predicting a character at a time"
   ]
  },
  {
   "cell_type": "markdown",
   "metadata": {},
   "source": [
    " - Randomly predict a number from 1 to 26. \n",
    " - Pick the corresponding letter from the alphabet.\n",
    " - Check if its already guessed, else not perdict it"
   ]
  },
  {
   "cell_type": "code",
   "execution_count": null,
   "metadata": {
    "collapsed": true
   },
   "outputs": [],
   "source": [
    "import numpy as np\n",
    "import string    \n",
    "\n",
    "\n",
    "def randomG(mask,guessed):\n",
    "    \n",
    "    # Initialise a dictionary with all the charcters in the alphbet\n",
    "    d = dict.fromkeys(string.ascii_lowercase, 0)\n",
    "    \n",
    "    # Give an integer index for each character\n",
    "    pd = dict()\n",
    "    for i,j in enumerate(d.keys()):\n",
    "        pd[i+1] = j\n",
    "    \n",
    "    while 1:\n",
    "        trials = np.random.choice(range(1,27), 1,replace=False)\n",
    "        if trials[0] not in guessed:\n",
    "            return pd[trials[0]]"
   ]
  },
  {
   "cell_type": "code",
   "execution_count": null,
   "metadata": {},
   "outputs": [],
   "source": [
    "mist = hangman('whatever',randomG,8)"
   ]
  },
  {
   "cell_type": "code",
   "execution_count": null,
   "metadata": {},
   "outputs": [],
   "source": [
    "# Number of mistakes made in count of characters - Highest possible for 1000 words?\n",
    "totMist = 0\n",
    "\n",
    "# Number of words correctly predicted?\n",
    "corrs = 0\n",
    "\n",
    "#Testing for effectiveness of the method on the test data\n",
    "for i,item in enumerate(test):\n",
    "    mist = hangman(item, randomG, 8, False)\n",
    "    totMist += mist\n",
    "    if mist < 8:\n",
    "        corrs += 1\n",
    "        print(i,item)\n",
    "\n",
    "print(totMist,corrs)"
   ]
  },
  {
   "cell_type": "markdown",
   "metadata": {},
   "source": [
    "## Can we do any better? ...In a principled and efficient way?\n",
    "\n",
    "1) Chain Rule\n",
    "$$ P(w_1,w_2,w_3,.....,w_n) \\approx  P(w_1)\\cdot P(w_2|w_1) \\cdot P(w_3|w_2,w_1) ..... \\cdot P(w_n | w_1,.....,w_{n-1}) $$\n",
    "\n",
    "2) Markov Assumption\n",
    "\n",
    "\n",
    "$$ P(w_1,w_2,w_3,.....,w_n) \\approx \\prod_{i} P(w_i | w_{i-k} ...w_{i-1} ) $$\n",
    "\n",
    "$$ P(w_i |w_1w_2.....w_{i-1}) \\approx  P(w_i | w_{i-k} ...w_{i-1} ) $$\n"
   ]
  },
  {
   "cell_type": "markdown",
   "metadata": {},
   "source": [
    "## Unigram character prediction"
   ]
  },
  {
   "cell_type": "markdown",
   "metadata": {},
   "source": [
    "- Predict a character based on the frequency of occurence in the corpus\n",
    "$$ P(w_1,w_2,w_3,.....,w_n) = \\prod_{i} P(w_i) $$"
   ]
  },
  {
   "cell_type": "code",
   "execution_count": null,
   "metadata": {},
   "outputs": [],
   "source": [
    "charaFreq = dict()\n",
    "totFreq = 0\n",
    "for item in train:\n",
    "    for chara in item:\n",
    "        try:\n",
    "            charaFreq[chara] += 1\n",
    "        except:\n",
    "            charaFreq[chara] = 1            \n",
    "        totFreq += 1\n",
    "import operator\n",
    "sorted_x = sorted(charaFreq.items(), key=operator.itemgetter(1),reverse=True)\n",
    "\n",
    "sorted_x[:5]"
   ]
  },
  {
   "cell_type": "code",
   "execution_count": null,
   "metadata": {},
   "outputs": [],
   "source": [
    "def unig(mask,guessed):\n",
    "    for item in sorted_x:\n",
    "        if item[0] not in guessed:\n",
    "            return item[0]\n",
    "hangman('whatever', unig, 8, True)"
   ]
  },
  {
   "cell_type": "code",
   "execution_count": null,
   "metadata": {},
   "outputs": [],
   "source": [
    "totMist = 0\n",
    "corrs = 0\n",
    "for i,item in enumerate(test):\n",
    "    mist = hangman(item, unig, 8, False)\n",
    "    totMist += mist\n",
    "    if mist < 8:\n",
    "        corrs += 1\n",
    "\n",
    "corrs,totMist"
   ]
  },
  {
   "cell_type": "markdown",
   "metadata": {},
   "source": [
    "## Unigram with Length"
   ]
  },
  {
   "cell_type": "code",
   "execution_count": null,
   "metadata": {
    "collapsed": true
   },
   "outputs": [],
   "source": [
    "from collections import defaultdict\n",
    "frequni = defaultdict(dict)\n",
    "for item in train:\n",
    "    for chara in item:\n",
    "        try:\n",
    "            frequni[len(item)][chara] += 1\n",
    "        except:\n",
    "            frequni[len(item)][chara] = 1"
   ]
  },
  {
   "cell_type": "code",
   "execution_count": null,
   "metadata": {},
   "outputs": [],
   "source": [
    "def unigLen(mask,guessed):\n",
    "    sorted_x = sorted(frequni[len(mask)].items(), key=operator.itemgetter(1),reverse=True)\n",
    "    for item in sorted_x:\n",
    "        if item[0] not in guessed:\n",
    "            return item[0]\n",
    "        \n",
    "totMist = 0\n",
    "corrs = 0\n",
    "for i,item in enumerate(test):\n",
    "    mist = hangman(item, unigLen, 8, False)\n",
    "    totMist += mist\n",
    "    if mist < 8:\n",
    "        corrs += 1\n",
    "print (corrs,totMist)"
   ]
  },
  {
   "cell_type": "markdown",
   "metadata": {},
   "source": [
    "## Unigram with Position\n",
    "\n",
    "- Proabbility distribution conditioned on individual position\n"
   ]
  },
  {
   "cell_type": "code",
   "execution_count": null,
   "metadata": {
    "collapsed": true
   },
   "outputs": [],
   "source": [
    "from collections import defaultdict\n",
    "frequni = defaultdict(dict)\n",
    "posCountDict = dict()\n",
    "for item in train:\n",
    "    for pos,chara in enumerate(item):\n",
    "        try:\n",
    "            frequni[pos][chara] += 1\n",
    "        except KeyError:\n",
    "            frequni[pos][chara] = 1\n",
    "        try:\n",
    "            posCountDict[pos] += 1\n",
    "        except KeyError:\n",
    "            posCountDict[pos] = 1"
   ]
  },
  {
   "cell_type": "code",
   "execution_count": null,
   "metadata": {},
   "outputs": [],
   "source": [
    "freqProb = defaultdict(dict)\n",
    "for item in frequni.keys():\n",
    "    if posCountDict[item] > 50:\n",
    "        for stuff in frequni[item].keys():\n",
    "            freqProb[item][stuff] = frequni[item][stuff]*1.0/posCountDict[item]\n",
    "\n",
    "freqProb.keys()"
   ]
  },
  {
   "cell_type": "code",
   "execution_count": null,
   "metadata": {},
   "outputs": [],
   "source": [
    "def unigPos(mask,guessed):\n",
    "    locDict = dict()\n",
    "    for item in freqProb.keys():\n",
    "        if item <= len(mask):\n",
    "            sorted_x = sorted(freqProb[item].items(), key=operator.itemgetter(1),reverse=True)\n",
    "            for stuff in sorted_x:\n",
    "                if stuff[0] not in guessed:\n",
    "                    locDict[stuff[0]] = stuff[1]\n",
    "    sorted_x = sorted(locDict.items(), key=operator.itemgetter(1),reverse=True)\n",
    "    for stuff in sorted_x:\n",
    "        if stuff[0] not in guessed:\n",
    "            return stuff[0]\n",
    "    \n",
    "    print('onnumilla')\n",
    "        \n",
    "totMist = 0\n",
    "corrs = 0\n",
    "for i,item in enumerate(test):\n",
    "    mist = hangman(item, unigPos, 8, False)\n",
    "    totMist += mist\n",
    "    if mist < 8:\n",
    "        corrs += 1\n",
    "print (corrs,totMist)"
   ]
  },
  {
   "cell_type": "markdown",
   "metadata": {},
   "source": [
    "- Shall we keep the max per position?\n",
    "\n",
    "```for stuff in sorted_x:\n",
    "                if stuff[0] not in guessed:\n",
    "                    if stuff[0] in locDict.keys():\n",
    "                        if stuff[1] > locDict[stuff[0]]:\n",
    "                            locDict[stuff[0]] = stuff[1]\n",
    "                            break\n",
    "                    else:\n",
    "                        locDict[stuff[0]] = stuff[1]\n",
    "                        break\n",
    "```                        \n",
    "                 \n",
    "- Shall we add up the probabilities?"
   ]
  },
  {
   "cell_type": "markdown",
   "metadata": {},
   "source": [
    "## Unigram with Position bidirectionally"
   ]
  },
  {
   "cell_type": "code",
   "execution_count": null,
   "metadata": {},
   "outputs": [],
   "source": [
    "from collections import defaultdict\n",
    "frequni = defaultdict(dict)\n",
    "posCountDict = dict()\n",
    "frequniRev = defaultdict(dict)\n",
    "posCountDictRev = dict()\n",
    "\n",
    "\n",
    "for item in train:\n",
    "    for pos,chara in enumerate(item):\n",
    "        revIndex = len(item)-1-pos\n",
    "\n",
    "        try:\n",
    "            frequni[pos][chara] += 1\n",
    "        except KeyError:\n",
    "            frequni[pos][chara] = 1\n",
    "            \n",
    "        try:\n",
    "            frequniRev[revIndex][chara] += 1\n",
    "        except KeyError:\n",
    "            frequniRev[revIndex][chara] = 1\n",
    "            \n",
    "            \n",
    "        try:\n",
    "            posCountDict[pos] += 1\n",
    "        except KeyError:\n",
    "            posCountDict[pos] = 1\n",
    "            \n",
    "        try:\n",
    "            posCountDictRev[revIndex] += 1\n",
    "        except KeyError:\n",
    "            posCountDictRev[revIndex] = 1\n",
    "\n",
    "\n",
    "freqProb = defaultdict(dict)\n",
    "freqProbRev = defaultdict(dict)\n",
    "\n",
    "for item in frequni.keys():\n",
    "    if posCountDict[item] > 50:\n",
    "        for stuff in frequni[item].keys():\n",
    "            freqProb[item][stuff] = frequni[item][stuff]*1.0/posCountDict[item]\n",
    "            \n",
    "for item in frequniRev.keys():\n",
    "    if posCountDictRev[item] > 50:\n",
    "        for stuff in frequniRev[item].keys():\n",
    "            freqProbRev[item][stuff] = frequniRev[item][stuff]*1.0/posCountDictRev[item]\n",
    "\n",
    "freqProb.keys(),freqProbRev.keys()"
   ]
  },
  {
   "cell_type": "code",
   "execution_count": null,
   "metadata": {},
   "outputs": [],
   "source": [
    "def unigPosBi(mask,guessed):\n",
    "    locDict = list()\n",
    "    for item in freqProb.keys():\n",
    "        if item <= len(mask):\n",
    "            sorted_x = sorted(freqProb[item].items(), key=operator.itemgetter(1),reverse=True)\n",
    "            for stuff in sorted_x:\n",
    "                if stuff[0] not in guessed:\n",
    "                    locDict.append((stuff[0],stuff[1],item))\n",
    "                    break\n",
    "    for item in freqProbRev.keys():\n",
    "        if item <= len(mask):\n",
    "            sorted_x = sorted(freqProbRev[item].items(), key=operator.itemgetter(1),reverse=True)\n",
    "            for stuff in sorted_x:\n",
    "                if stuff[0] not in guessed:\n",
    "                    locDict.append((stuff[0],stuff[1],-1*item))\n",
    "                    break\n",
    "    loctDict2 = dict()\n",
    "    for item in locDict:\n",
    "        try:\n",
    "            loctDict2[item[0]] += item[1]\n",
    "        except:\n",
    "            loctDict2[item[0]] = item[1]\n",
    "    \n",
    "    #sorted_x = sorted(locDict, key=lambda x: x[1],reverse=True)\n",
    "    sorted_x = sorted(loctDict2.items(), key=operator.itemgetter(1),reverse=True)\n",
    "    for stuff in sorted_x:\n",
    "        if stuff[0] not in guessed:\n",
    "            return stuff[0]\n",
    "    \n",
    "    print('onnumilla')\n",
    "        \n",
    "totMist = 0\n",
    "corrs = 0\n",
    "for i,item in enumerate(test):\n",
    "    mist = hangman(item, unigPosBi, 8, False)\n",
    "    totMist += mist\n",
    "    if mist < 8:\n",
    "        corrs += 1\n",
    "\n",
    "print (corrs,totMist)"
   ]
  },
  {
   "cell_type": "markdown",
   "metadata": {},
   "source": [
    "### bi-gram Models\n",
    "\n",
    "$$\n",
    "P(w_i | w_{i-1}) = \\frac{count(w_{i-1},w_i)}{count(w_{i-1})} $$"
   ]
  },
  {
   "cell_type": "code",
   "execution_count": null,
   "metadata": {
    "collapsed": true
   },
   "outputs": [],
   "source": [
    "from collections import defaultdict\n",
    "bigram = defaultdict(dict)\n",
    "\n",
    "for item in train:\n",
    "    item2 = '$'+item+'$'\n",
    "    for i,chara in enumerate(item2[:-1]):\n",
    "        try:\n",
    "            bigram[chara][item2[i+1]] += 1\n",
    "        except:\n",
    "            bigram[chara][item2[i+1]] = 1\n"
   ]
  },
  {
   "cell_type": "code",
   "execution_count": null,
   "metadata": {},
   "outputs": [],
   "source": [
    "outerKeys = dict()\n",
    "\n",
    "for item in bigram.keys():\n",
    "    for stuff in bigram[item]:\n",
    "        try:\n",
    "            outerKeys[item] += bigram[item][stuff]\n",
    "        except:\n",
    "            outerKeys[item] = bigram[item][stuff]\n",
    "\n",
    "            \n",
    "for item in bigram.keys():\n",
    "    try:\n",
    "        del bigram[item]['$']\n",
    "    except:\n",
    "        pass\n",
    "    \n",
    "    for stuff in bigram[item]:\n",
    "        bigram[item][stuff] = (1.0*bigram[item][stuff])/outerKeys[item]\n",
    "\n",
    "\n",
    "def bigramM(mask,guessed):\n",
    "    currMax = 0.0\n",
    "    \n",
    "    currBi = '_'\n",
    "    if len(mask) == mask.count('_'):\n",
    "        return unig(mask,guessed).split('_')[0]\n",
    "    else:\n",
    "        for i,item in enumerate(mask):\n",
    "            try:\n",
    "                if item != '_' and mask[i+1] == '_':\n",
    "                    sorted_x = sorted(bigram[item].items(), key=operator.itemgetter(1),reverse=True)\n",
    "                    for thing in sorted_x:\n",
    "                        if thing[1] > currMax and thing[0] not in guessed:\n",
    "                            currMax = thing[1]\n",
    "                            currBi = thing[0]\n",
    "                            break\n",
    "            except IndexError:\n",
    "                pass\n",
    "\n",
    "        return currBi\n",
    "\n",
    "hangman('whatevera', bigramM, 8, False)               "
   ]
  },
  {
   "cell_type": "code",
   "execution_count": null,
   "metadata": {},
   "outputs": [],
   "source": [
    "totMist = 0\n",
    "corrs = 0\n",
    "for i,item in enumerate(test):\n",
    "    mist = hangman(item, bigramM, 8, False)\n",
    "    totMist += mist\n",
    "    if mist < 8:\n",
    "        corrs += 1\n",
    "print (corrs,totMist)"
   ]
  },
  {
   "cell_type": "markdown",
   "metadata": {},
   "source": [
    "### N-gram Models"
   ]
  },
  {
   "cell_type": "code",
   "execution_count": null,
   "metadata": {
    "collapsed": true
   },
   "outputs": [],
   "source": [
    "from collections import defaultdict\n",
    "\n",
    "def ngramModel(train,ngt,countsOnly=1):\n",
    "    ng = ngt - 1\n",
    "    bigram = defaultdict(dict)\n",
    "    outerKeys =dict()\n",
    "    for item in train:\n",
    "        item2 = '$'+item+'$'\n",
    "        for i,chara in enumerate(item2):\n",
    "            if i+ng >= len(item2)-1:\n",
    "                break\n",
    "            try:\n",
    "                bigram[item2[i:i+ng]][item2[i+ng]] += 1\n",
    "            except:\n",
    "                try:\n",
    "                    bigram[item2[i:i+ng]][item2[i+ng]] = 1\n",
    "                except IndexError:\n",
    "                    pass\n",
    "    for item in bigram.keys():\n",
    "        for stuff in bigram[item]:\n",
    "            try:\n",
    "                outerKeys[item] += bigram[item][stuff]\n",
    "            except:\n",
    "                outerKeys[item] = bigram[item][stuff]\n",
    "    if countsOnly != 1:\n",
    "        for item in bigram.keys():\n",
    "            try:\n",
    "                del bigram[item]['$']\n",
    "            except:\n",
    "                pass\n",
    "            for stuff in bigram[item]:\n",
    "                bigram[item][stuff] = (1.0*bigram[item][stuff])/outerKeys[item]\n",
    "    \n",
    "    return bigram,outerKeys"
   ]
  },
  {
   "cell_type": "code",
   "execution_count": null,
   "metadata": {
    "collapsed": true
   },
   "outputs": [],
   "source": [
    "ngModels = dict()\n",
    "outKeys = dict()\n",
    "\n",
    "for i in range(2,6):\n",
    "    ngModels[i],outKeys[i] = ngramModel(train,i)"
   ]
  },
  {
   "cell_type": "code",
   "execution_count": null,
   "metadata": {},
   "outputs": [],
   "source": [
    "ngModels[5]"
   ]
  },
  {
   "cell_type": "markdown",
   "metadata": {},
   "source": [
    "## Backoff Models\n",
    "\n",
    "- use  n-gram  if  you  have  good  evidence\n",
    "- otherwise  (n-1)-gram, (n-2)-gram .... bigram, unigram .\n",
    "- How to come up with good evidence"
   ]
  },
  {
   "cell_type": "code",
   "execution_count": null,
   "metadata": {
    "collapsed": true
   },
   "outputs": [],
   "source": [
    "from __future__ import print_function \n",
    "\n",
    "def hangman2(secret_word, guesser, max_mistakes=8, verbose=True,param=20):\n",
    "    secret_word = secret_word.lower()\n",
    "    mask = ['_'] * len(secret_word)\n",
    "    guessed = set()\n",
    "    if verbose:\n",
    "        print(\"Starting hangman game. Target is\", ' '.join(mask), 'length', len(secret_word))\n",
    "    \n",
    "    mistakes = 0\n",
    "    while mistakes < max_mistakes:\n",
    "        if verbose:\n",
    "            print(\"You have\", (max_mistakes-mistakes), \"attempts remaining.\")\n",
    "        guess = guesser(mask, guessed,param)\n",
    "\n",
    "        if verbose:\n",
    "            print('Guess is', guess)\n",
    "        if guess in guessed:\n",
    "            if verbose:\n",
    "                print('Already guessed this before.')\n",
    "            mistakes += 1\n",
    "        else:\n",
    "            guessed.add(guess)\n",
    "            if guess in secret_word:\n",
    "                for i, c in enumerate(secret_word):\n",
    "                    if c == guess:\n",
    "                        mask[i] = c\n",
    "                if verbose:\n",
    "                    print('Good guess:', ' '.join(mask))\n",
    "            else:\n",
    "                if verbose:\n",
    "                    print('Sorry, try again.')\n",
    "                mistakes += 1\n",
    "                \n",
    "        if '_' not in mask:\n",
    "            if verbose:\n",
    "                print('Congratulations, you won.')\n",
    "            return mistakes\n",
    "        \n",
    "    if verbose:\n",
    "        print('Out of guesses. The word was', secret_word)    \n",
    "    return mistakes"
   ]
  },
  {
   "cell_type": "code",
   "execution_count": null,
   "metadata": {
    "collapsed": true
   },
   "outputs": [],
   "source": [
    "def ngramM(mask,guessed,paramList):\n",
    "    proList = list()\n",
    "    maski = '$' +  ''.join(mask) + '$'\n",
    "    if len(mask) == mask.count('_'):\n",
    "        return unigPos(mask,guessed)\n",
    "    maskSort = sorted([item[-4:] for item in maski.split('_') if len(item)>=1 and '$'!=item[-1]],key=lambda x: len(x),reverse=True)\n",
    "    for item in maskSort:\n",
    "        for i in range(4):\n",
    "            proAdded = 0\n",
    "            try:\n",
    "                if outKeys[len(item[i:])+1][item[i:]] > paramList[i]:\n",
    "                    pro = sorted(ngModels[len(item[i:])+1][item[i:]].items(),key=operator.itemgetter(1),reverse=True)\n",
    "                    for pros in pro:\n",
    "                        if pros[0] not in guessed:\n",
    "                            proList.append((pros[0],pros[1],pros[1]*1.0/outKeys[len(item[i:])+1][item[i:]],len(item[i:])+1))\n",
    "                            proAdded = 1\n",
    "                            break\n",
    "                    if proAdded == 1:\n",
    "                        break\n",
    "            except (IndexError,KeyError) as e:\n",
    "                pass\n",
    "                \n",
    "    #print(proList)\n",
    "    if len(proList) == 0:\n",
    "        return unigPos(mask,guessed)\n",
    "    return sorted(proList, key=lambda vertex: (vertex[3], vertex[2]),reverse=True)[0][0]"
   ]
  },
  {
   "cell_type": "code",
   "execution_count": null,
   "metadata": {},
   "outputs": [],
   "source": [
    "maxparai = 0\n",
    "maxCorr = 0\n",
    "\n",
    "\n",
    "for uni in  range(1,20):\n",
    "    totMist = 0\n",
    "    corrs = 0\n",
    "    parai = [uni,uni,uni,uni]\n",
    "    for i,item in enumerate(test):\n",
    "        mist = hangman2(item, ngramM, 8, False,parai)\n",
    "        totMist += mist\n",
    "        if mist < 8:\n",
    "            corrs += 1\n",
    "    if corrs > maxCorr:\n",
    "        print ('Best - ',parai,corrs,totMist)\n",
    "        maxparai = parai\n",
    "        maxCorr = corrs\n"
   ]
  },
  {
   "cell_type": "code",
   "execution_count": null,
   "metadata": {},
   "outputs": [],
   "source": [
    "maxparai = 0\n",
    "maxCorr = 0\n",
    "\n",
    "\n",
    "for uni in  range(1,20):\n",
    "    for bi in range(1,20):\n",
    "        for tri in range(1,20):\n",
    "            for quad in range(1,20):\n",
    "                totMist = 0\n",
    "                corrs = 0\n",
    "                parai = [quad,tri,bi,uni]\n",
    "                for i,item in enumerate(test):\n",
    "                    mist = hangman2(item, ngramM, 8, False,parai)\n",
    "                    totMist += mist\n",
    "                    if mist < 8:\n",
    "                        corrs += 1\n",
    "                if corrs > maxCorr:\n",
    "                    print ('Best - ',parai,corrs,totMist)\n",
    "                    maxparai = parai\n",
    "                    maxCorr = corrs"
   ]
  },
  {
   "cell_type": "markdown",
   "metadata": {},
   "source": [
    "## Interploation\n",
    "- mix  unigram,  bigram,  trigram and so on\n",
    "\n",
    "$$ P(w_n|w_{n-2},w_{n-1}) = \\lambda_1 P(w_n|w_{n-2},w_{n-1}) + \\lambda_2 P(w_n|w_{n-1}) + \\lambda_3 P(w_n)   $$"
   ]
  },
  {
   "cell_type": "code",
   "execution_count": null,
   "metadata": {
    "collapsed": true
   },
   "outputs": [],
   "source": [
    "def ngraInterp(mask,guessed,paramList=[0.1,0.2,0.3,0.4]):\n",
    "    proList = list()\n",
    "    maski = '$' +  ''.join(mask) + '$'\n",
    "    if len(mask) == mask.count('_'):\n",
    "        return unigPos(mask,guessed)\n",
    "    maskSort = sorted([item[-4:] for item in maski.split('_') if len(item)>=1 and '$'!=item[-1]],key=lambda x: len(x),reverse=True)\n",
    "    #print (maskSort)\n",
    "    for item in maskSort:\n",
    "        candidates = dict()\n",
    "        for i in range(-1*(len(item)-1),1):\n",
    "            #print(item,item[-i:],-i,len(item[-i:]))\n",
    "            proAdded = 0\n",
    "            try:\n",
    "                pro = sorted(ngModels[len(item[-i:])+1][item[-i:]].items(),key=operator.itemgetter(1),reverse=True)\n",
    "                for pros in pro:\n",
    "                    if pros[0] not in guessed:\n",
    "                        try:\n",
    "                            candidates[pros[0]] += paramList[-i]* pros[1]*1.0/outKeys[len(item[-i:])+1][item[-i:]]\n",
    "                        except:\n",
    "                            candidates[pros[0]] = paramList[-i]* pros[1]*1.0/outKeys[len(item[-i:])+1][item[-i:]]\n",
    "            except (IndexError,KeyError) as e:\n",
    "                pass\n",
    "        finMark = list(sorted(candidates.items(), key=operator.itemgetter(1),reverse=True)[0])\n",
    "        finMark.append(item)\n",
    "        proList.append(tuple(finMark))\n",
    "                \n",
    "    #print(proList)\n",
    "    if len(proList) == 0:\n",
    "        return unigPos(mask,guessed)\n",
    "    #print(sorted(proList, key=lambda x: x[0],reverse=True)[0][0])\n",
    "    return sorted(proList, key=lambda x: x[0],reverse=True)[0][0]"
   ]
  },
  {
   "cell_type": "code",
   "execution_count": null,
   "metadata": {},
   "outputs": [],
   "source": [
    "hangman2('whatever', ngraInterp, 8, False,[0.9,0.3,1.3,0.4])             \n",
    "totMist = 0\n",
    "corrs = 0\n",
    "for i,item in enumerate(test):\n",
    "    mist = hangman2(item, ngraInterp, 8, False,[0.3,0.5,0.7,0.9])\n",
    "    totMist += mist\n",
    "    if mist < 8:\n",
    "        corrs += 1\n",
    "print (corrs,totMist)"
   ]
  },
  {
   "cell_type": "code",
   "execution_count": null,
   "metadata": {
    "collapsed": true
   },
   "outputs": [],
   "source": [
    "def ngraInterp(mask,guessed,paramList=[0.25,0.25,0.25,0.25]):\n",
    "    proList = list()\n",
    "    maski = '$' +  ''.join(mask) + '$'\n",
    "    if len(mask) == mask.count('_'):\n",
    "        return unig(mask,guessed)\n",
    "    maskSort = sorted([item[-4:] for item in maski.split('_') if len(item)>=1 and '$'!=item[-1]],key=lambda x: len(x),reverse=True)\n",
    "    #print (maskSort)\n",
    "    for item in maskSort:\n",
    "        candidates = dict()\n",
    "        for i in range(-1*(len(item)-1),1):\n",
    "            #print(item,item[-i:],-i,len(item[-i:]))\n",
    "            proAdded = 0\n",
    "            try:\n",
    "                pro = sorted(ngModels[len(item[-i:])+1][item[-i:]].items(),key=operator.itemgetter(1),reverse=True)\n",
    "                for pros in pro:\n",
    "                    if pros[0] not in guessed:\n",
    "                        try:\n",
    "                            candidates[pros[0]] += paramList[-i]* pros[1]*1.0/outKeys[len(item[-i:])+1][item[-i:]]\n",
    "                        except:\n",
    "                            candidates[pros[0]] = paramList[-i]* pros[1]*1.0/outKeys[len(item[-i:])+1][item[-i:]]\n",
    "            except (IndexError,KeyError) as e:\n",
    "                pass\n",
    "        finMark = list(sorted(candidates.items(), key=operator.itemgetter(1),reverse=True)[0])\n",
    "        finMark.append(item)\n",
    "        proList.append(tuple(finMark))\n",
    "                \n",
    "    #print(proList)\n",
    "    if len(proList) == 0:\n",
    "        return unigPos(mask,guessed)\n",
    "    return sorted(proList, key=lambda x: x[0],reverse=True)[0][0]"
   ]
  },
  {
   "cell_type": "code",
   "execution_count": null,
   "metadata": {},
   "outputs": [],
   "source": [
    "hangman2('whatever', ngraInterp, 8, False, [0.25,0.25,0.25,0.25])   "
   ]
  },
  {
   "cell_type": "code",
   "execution_count": null,
   "metadata": {},
   "outputs": [],
   "source": [
    "totMist = 0\n",
    "corrs = 0\n",
    "for i,item in enumerate(test):\n",
    "    mist = hangman2(item, ngraInterp, 8, False, [ 0.25,0.25,0.25,0.25])\n",
    "    #[ 6.18284023  0.66143727  0.91415198  2.9306201 ]\n",
    "    totMist += mist\n",
    "    if mist < 8:\n",
    "        corrs += 1\n",
    "print (corrs,totMist)"
   ]
  },
  {
   "cell_type": "markdown",
   "metadata": {},
   "source": [
    "## parameter Estimation"
   ]
  },
  {
   "cell_type": "code",
   "execution_count": null,
   "metadata": {
    "collapsed": true
   },
   "outputs": [],
   "source": [
    "def ngraInterpWeights(mask,guessed,paramList=[ 0.25,0.25,0.25,0.25]):\n",
    "    proList = list()\n",
    "    scores = defaultdict(dict)\n",
    "    maski = '$' +  ''.join(mask) + '$'\n",
    "    if len(mask) == mask.count('_'):\n",
    "        return unig(mask,guessed),'nil'\n",
    "    maskSort = sorted([item[-4:] for item in maski.split('_') if len(item)>=1 and '$'!=item[-1]],key=lambda x: len(x),reverse=True)\n",
    "    #print (maskSort)\n",
    "    for item in maskSort:\n",
    "        candidates = dict()\n",
    "\n",
    "        \n",
    "        for i in range(-1*(len(item)-1),1):\n",
    "            #print(item,item[-i:],-i,len(item[-i:]))\n",
    "            proAdded = 0\n",
    "            try:\n",
    "                pro = sorted(ngModels[len(item[-i:])+1][item[-i:]].items(),key=operator.itemgetter(1),reverse=True)\n",
    "                for pros in pro:\n",
    "                    if pros[0] not in guessed:\n",
    "                        try:\n",
    "                            candidates[pros[0]] += paramList[-i]* pros[1]*1.0/outKeys[len(item[-i:])+1][item[-i:]]\n",
    "                        except:\n",
    "                            candidates[pros[0]] = paramList[-i]* pros[1]*1.0/outKeys[len(item[-i:])+1][item[-i:]]\n",
    "                        scores[item+'_'+pros[0]][len(item[-i:])+1] =  paramList[-i]* pros[1]*1.0/outKeys[len(item[-i:])+1][item[-i:]]\n",
    "\n",
    "            except (IndexError,KeyError) as e:\n",
    "                pass\n",
    "        finMark = list(sorted(candidates.items(), key=operator.itemgetter(1),reverse=True)[0])\n",
    "        finMark.append(item)\n",
    "        proList.append(tuple(finMark))\n",
    "                \n",
    "    #print(proList)\n",
    "    if len(proList) == 0:\n",
    "        return unig(mask,guessed),'nil'\n",
    "    \n",
    "    finVal = sorted(proList, key=lambda x: x[0],reverse=True)[0][0]\n",
    "    newScores = defaultdict(dict)\n",
    "    for item in scores.keys():\n",
    "        if item.split('_')[1]== finVal:\n",
    "            newScores[item] = scores[item]\n",
    "    return finVal,newScores\n",
    "\n",
    "\n",
    "def hangman3(secret_word, guesser, max_mistakes=8, verbose=True,param=20):\n",
    "    tuples = open('filePar.csv','a')\n",
    "    secret_word = secret_word.lower()\n",
    "    mask = ['_'] * len(secret_word)\n",
    "    guessed = set()\n",
    "    if verbose:\n",
    "        print(\"Starting hangman game. Target is\", ' '.join(mask), 'length', len(secret_word))\n",
    "    \n",
    "    mistakes = 0\n",
    "    while mistakes < max_mistakes:\n",
    "        if verbose:\n",
    "            print(\"You have\", (max_mistakes-mistakes), \"attempts remaining.\")\n",
    "        guess,scores = guesser(mask, guessed,param)\n",
    "        finScores = defaultdict(dict)\n",
    "        for i in range(1,6):\n",
    "            finScores[guess][i] = 0.0\n",
    "        if scores != 'nil': \n",
    "            for item in scores.keys():\n",
    "                for stuff in scores[item].keys():\n",
    "                    try:\n",
    "                        finScores[guess][stuff] += scores[item][stuff]\n",
    "                    except KeyError:\n",
    "                        print(item,stuff)\n",
    "\n",
    "                \n",
    "        if verbose:\n",
    "            print('Guess is', guess)\n",
    "        if guess in guessed:\n",
    "            if verbose:\n",
    "                print('Already guessed this before.')\n",
    "            mistakes += 1\n",
    "        else:\n",
    "            guessed.add(guess)\n",
    "            if guess in secret_word:\n",
    "                for i, c in enumerate(secret_word):\n",
    "                    if c == guess:\n",
    "                        mask[i] = c\n",
    "                if verbose:\n",
    "                    print('Good guess:', ' '.join(mask))\n",
    "                finScores[guess]['correct'] = 1\n",
    "            else:\n",
    "                if verbose:\n",
    "                    print('Sorry, try again.')\n",
    "                mistakes += 1\n",
    "                finScores[guess]['correct'] = 0\n",
    "        if scores != 'nil':\n",
    "            print(guess,finScores[guess][2],finScores[guess][3],finScores[guess][4],finScores[guess][5],finScores[guess]['correct'],file=tuples,sep=',')\n",
    "        if '_' not in mask:\n",
    "            if verbose:\n",
    "                print('Congratulations, you won.')\n",
    "            return mistakes\n",
    "        \n",
    "    if verbose:\n",
    "        print('Out of guesses. The word was', secret_word)    \n",
    "    tuples.close()\n",
    "    return mistakes"
   ]
  },
  {
   "cell_type": "code",
   "execution_count": null,
   "metadata": {},
   "outputs": [],
   "source": [
    "corrs = 0\n",
    "totMist = 0 \n",
    "tuples = open('filePar.csv','w')\n",
    "tuples.close()\n",
    "for i,item in enumerate(test):\n",
    "    mist = hangman3(item, ngraInterpWeights, 8, False,[ 0.25,0.25,0.25,0.25])\n",
    "    totMist += mist\n",
    "    if mist < 8:\n",
    "        corrs += 1\n",
    "print (corrs,totMist)\n"
   ]
  },
  {
   "cell_type": "code",
   "execution_count": null,
   "metadata": {},
   "outputs": [],
   "source": [
    "import pandas\n",
    "params = pandas.read_csv('filePar.csv',names=['char','bi','tri','quad','five','label'])\n",
    "params.groupby('label').count()"
   ]
  },
  {
   "cell_type": "code",
   "execution_count": null,
   "metadata": {},
   "outputs": [],
   "source": [
    "from sklearn import linear_model\n",
    "log_model = linear_model.LogisticRegression(max_iter=1000)\n",
    "train_features = params[['bi','tri','quad','five']]\n",
    "test_features = params['label']\n",
    "log_model.fit(X = train_features ,\n",
    "              y = test_features)\n",
    "\n",
    "print(log_model.coef_,log_model.get_params())"
   ]
  },
  {
   "cell_type": "code",
   "execution_count": null,
   "metadata": {},
   "outputs": [],
   "source": [
    "a = log_model.coef_[0]\n",
    "b = [item/sum(a) for item in a]\n",
    "b,b[::-1]\n"
   ]
  },
  {
   "cell_type": "code",
   "execution_count": null,
   "metadata": {},
   "outputs": [],
   "source": [
    "corrs = 0\n",
    "totMist = 0 \n",
    "for i,item in enumerate(test):\n",
    "    mist = hangman3(item, ngraInterpWeights, 8, False,b)\n",
    "    totMist += mist\n",
    "    if mist < 8:\n",
    "        corrs += 1\n",
    "print (corrs,totMist)\n"
   ]
  },
  {
   "cell_type": "markdown",
   "metadata": {},
   "source": [
    "## Reference\n",
    " - [Stanford CS124 slides](https://web.stanford.edu/class/cs124/lec/languagemodeling.pdf)"
   ]
  }
 ],
 "metadata": {
  "kernelspec": {
   "display_name": "Python 2",
   "language": "python",
   "name": "python2"
  },
  "language_info": {
   "codemirror_mode": {
    "name": "ipython",
    "version": 2
   },
   "file_extension": ".py",
   "mimetype": "text/x-python",
   "name": "python",
   "nbconvert_exporter": "python",
   "pygments_lexer": "ipython2",
   "version": "2.7.13"
  }
 },
 "nbformat": 4,
 "nbformat_minor": 2
}
