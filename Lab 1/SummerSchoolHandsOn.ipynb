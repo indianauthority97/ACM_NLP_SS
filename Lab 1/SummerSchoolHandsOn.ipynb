{
 "cells": [
  {
   "cell_type": "markdown",
   "metadata": {},
   "source": [
    "\n",
    "<h1 align=\"center\">Text Processing with Jupyter Notebook</h1> \n",
    "<br />\n",
    "<img style=\"margin:auto;\" src=\"Demo/jupyter2.png\"></img>\n",
    "<h4 align=\"center\">Amrith Krishna | Jasabanta Patro</h4> "
   ]
  },
  {
   "cell_type": "markdown",
   "metadata": {
    "deletable": true,
    "editable": true,
    "nbpresent": {
     "id": "20c859b6-455a-477f-8cb4-9b3b0d3d7b87"
    }
   },
   "source": [
    "# Installation of Anaconda and Jupyter \n",
    "\n",
    "### what is Anaconda and why we need to install?\n",
    "- Anaconda is the leading open data science platform powered by Python.\n",
    "- It has open source version\n",
    "- It has high performance distribution of Python and R and includes over 100 of the most popular Python, R and Scala packages for data science.\n",
    "\n",
    "### How to install?\n",
    "#### Its Easy!!!\n",
    "- Download Anaconda (https://www.continuum.io/downloads)\n",
    "- Install the version of Anaconda, which you downloaded. (simple bash command is present in download site)\n",
    "- Congratulations!!! It's done. \n"
   ]
  },
  {
   "cell_type": "markdown",
   "metadata": {
    "deletable": true,
    "editable": true,
    "nbpresent": {
     "id": "2a3ba13f-6159-4aa9-a085-0b26a5d68605"
    }
   },
   "source": [
    "\n",
    "### Why we prefer Jupyter Notebook ?\n",
    "\n",
    "- In-browser editing for code : syntax highlighting, indentation and tab completion.\n",
    "- Modular execution of code\n",
    "- Export to HTML, LaTeX, PNG, SVG, etc. \n",
    "- Use Markdown to write messages like this\n",
    "- include mathematical notation within markdown cells using LaTeX, and rendered natively by MathJax.\n",
    "- Supports 40+ languages as kernels including `python`,`PHP`,`Julia`,`R`\n",
    "\n",
    "### How to install Jupyter ?\n",
    "- Congratulations!!! You have sucessfully installed Jupyter !!!\n",
    "- Jupyter is installed in your system as a package in anaconda (http://jupyter.readthedocs.io/en/latest/install.html)\n",
    "- write <b>\"jupyter notebook\"</b> in terminal to open jupyter notebook"
   ]
  },
  {
   "cell_type": "code",
   "execution_count": 2,
   "metadata": {
    "collapsed": false
   },
   "outputs": [
    {
     "name": "stdout",
     "output_type": "stream",
     "text": [
      "Hello ACM Summer School 2017\n"
     ]
    }
   ],
   "source": [
    "print \"Hello ACM Summer School 2017\""
   ]
  },
  {
   "cell_type": "markdown",
   "metadata": {
    "deletable": true,
    "editable": true,
    "nbpresent": {
     "id": "f611a09f-b7c1-4c14-8ba6-a33e98a8f000"
    }
   },
   "source": [
    "# Introduction - File Operations"
   ]
  },
  {
   "cell_type": "markdown",
   "metadata": {
    "deletable": true,
    "editable": true,
    "nbpresent": {
     "id": "3f40854d-04ea-471f-b567-e5f41feb708a"
    }
   },
   "source": [
    "#### To open a file \n",
    "\n",
    "syntax: <br>\n",
    "        File_Object = open('File_Name','mode') \n",
    "       <br>\n",
    "       \n",
    "As can be interpreted by name <b>File_Name</b> is the name of file you want to open <br>\n",
    "There are various <b>mode</b> in which you can open a file e.g. read('r'), write('w'), append('a') etc. <br>\n",
    "The open function returns a file object which is currently recieved in File_Object variable, will be used further for accessing data present in the file. \n"
   ]
  },
  {
   "cell_type": "code",
   "execution_count": 16,
   "metadata": {
    "collapsed": true,
    "deletable": true,
    "editable": true,
    "nbpresent": {
     "id": "100479c5-97c4-40ea-b1f7-19f93008aa18"
    }
   },
   "outputs": [],
   "source": [
    "fileName = open('Basics_NLP/gaur.txt', 'r')"
   ]
  },
  {
   "cell_type": "markdown",
   "metadata": {},
   "source": [
    "lets see what happens when you print the the variable fileName"
   ]
  },
  {
   "cell_type": "code",
   "execution_count": 5,
   "metadata": {
    "collapsed": false
   },
   "outputs": [
    {
     "name": "stdout",
     "output_type": "stream",
     "text": [
      "<open file 'Basics_NLP/gaur.txt', mode 'r' at 0x7fcde4ae8ed0>\n"
     ]
    }
   ],
   "source": [
    "print fileName"
   ]
  },
  {
   "cell_type": "markdown",
   "metadata": {
    "deletable": true,
    "editable": true,
    "nbpresent": {
     "id": "4eda95e3-3775-46ac-afa4-cde166b9edea"
    }
   },
   "source": [
    "How do I see the contents of the file?"
   ]
  },
  {
   "cell_type": "code",
   "execution_count": 17,
   "metadata": {
    "collapsed": false,
    "deletable": true,
    "editable": true,
    "nbpresent": {
     "id": "90d8ab4a-7852-4f07-9201-a9d99b4256a7"
    }
   },
   "outputs": [
    {
     "name": "stdout",
     "output_type": "stream",
     "text": [
      "Love is everlasting Forgiveness.\n",
      "Having free time is not an opulence, it's a danger.\n",
      "Krishna is the Supreme Personality of Godhead. \n"
     ]
    }
   ],
   "source": [
    "print fileName.read()"
   ]
  },
  {
   "cell_type": "markdown",
   "metadata": {},
   "source": [
    "Let's read the file line by line"
   ]
  },
  {
   "cell_type": "code",
   "execution_count": 15,
   "metadata": {
    "collapsed": false
   },
   "outputs": [
    {
     "name": "stdout",
     "output_type": "stream",
     "text": [
      "Love is everlasting Forgiveness.\n",
      "\n"
     ]
    }
   ],
   "source": [
    "fileName = open('Basics_NLP/gaur.txt', 'r')\n",
    "print fileName.readline()"
   ]
  },
  {
   "cell_type": "markdown",
   "metadata": {
    "deletable": true,
    "editable": true,
    "nbpresent": {
     "id": "65588b36-bb13-414d-94a2-fb2918001e99"
    }
   },
   "source": [
    "We can read a chunk of data from the file by passing chunk size as a parameter to read function"
   ]
  },
  {
   "cell_type": "code",
   "execution_count": 20,
   "metadata": {
    "collapsed": false,
    "deletable": true,
    "editable": true,
    "nbpresent": {
     "id": "839d3530-6aa9-4ccd-814d-ceed4f87bb56"
    }
   },
   "outputs": [
    {
     "name": "stdout",
     "output_type": "stream",
     "text": [
      "Love is\n"
     ]
    }
   ],
   "source": [
    "chunk_size = 7\n",
    "\n",
    "File_Object = open('Basics_NLP/gaur.txt', 'r')\n",
    "print (File_Object.read(chunk_size))"
   ]
  },
  {
   "cell_type": "markdown",
   "metadata": {
    "deletable": true,
    "editable": true,
    "nbpresent": {
     "id": "53f59fbf-5968-47cd-8485-a43a9d5e1dba"
    }
   },
   "source": [
    "#### What if the file is very large say greater then RAM? \n",
    "\n",
    "If the size of the file is very large then it can't be opened directly and the system may hang in an attempt to do so. So we use lazy loading of the file that reads the data in chunks\n"
   ]
  },
  {
   "cell_type": "code",
   "execution_count": 35,
   "metadata": {
    "collapsed": false,
    "deletable": true,
    "editable": true,
    "nbpresent": {
     "id": "d6bda47f-f7a5-4623-a66b-c8819f9227c4"
    }
   },
   "outputs": [
    {
     "name": "stdout",
     "output_type": "stream",
     "text": [
      "! Love is ever !\n",
      "! lasting Forg !\n",
      "! iveness.\n",
      "Hav !\n",
      "! ing free tim !\n",
      "! e is not an  !\n",
      "! opulence, it !\n",
      "! 's a danger. !\n",
      "! \n",
      "Krishna is  !\n",
      "! the Supreme  !\n",
      "! Personality  !\n",
      "! of Godhead.  !\n"
     ]
    }
   ],
   "source": [
    "f = open('Basics_NLP/gaur.txt')\n",
    "\n",
    "def read1k(chunkSize=12):\n",
    "    return f.read(chunkSize)\n",
    "\n",
    "for piece in iter(read1k, ''):\n",
    "    print '!',piece,'!'"
   ]
  },
  {
   "cell_type": "markdown",
   "metadata": {
    "deletable": true,
    "editable": true,
    "nbpresent": {
     "id": "9152850c-5d7a-443f-b996-59c4cdb971e7"
    }
   },
   "source": [
    "#### Lazy loading of a gzip file"
   ]
  },
  {
   "cell_type": "code",
   "execution_count": 38,
   "metadata": {
    "collapsed": false,
    "deletable": true,
    "editable": true,
    "nbpresent": {
     "id": "9d42c218-2e86-4409-bce8-37cdb6be3a43"
    }
   },
   "outputs": [
    {
     "name": "stdout",
     "output_type": "stream",
     "text": [
      "h1, h2 {margin: 10px 25px 5px;}h2 {font-size: 1.1em;}.filename {font-style: italic;}.exceptionMessage {margin: 10px;border: 1px solid #000;padding: 5px;background-color: #E9E9E9;}.stack,.snippet {margin: 0 25px 10px;}.stack,.snippet {border: 1px solid #ccc;-mox-box-shadow: 0 0 2px rgba(0,0,0,0.2);-webkit-box-shadow: 0 0 2px rgba(0,0,0,0.2);box-shadow: 0 0 2px rgba(0,0,0,0.2);}.error-details {border-top: 1px solid #FFAAAA;-mox-box-shadow: 0 0 2px rgba(0,0,0,0.2);-webkit-box-shadow: 0 0 2px rgba(0,0,0,0.2);box-shadow: 0 0 2px rgba(0,0,0,0.2);border-bottom: 1px solid #FFAAAA;-mox-box-shadow: 0 0 2px rgba(0,0,0,0.2);-webkit-box-shadow: 0 0 2px rgba(0,0,0,0.2);box-shadow: 0 0 2px rgba(0,0,0,0.2);background-color:#FFF3F3;line-height: 1.5;overflow: hidden;padding: 5px;padding-left:25px;}.error-details dt {clear: left;float: left;font-weight: bold;margin-right: 5px;}.error-details dt:after {content: \":\";}.error-details dd {display: block;}.stack {padding: 5px;overflow: auto;height: 150px;}.snippet {background-color: #fff;font-family: monospace;}.snippet .line {display: block;}.snippet .lineNumber {background-color: #ddd;color: #999;display: inline-block;margin-right: 5px;padding: 0 3px;text-align: right;width: 3em;}.snippet .error {background-color: #fff3f3;font-weight: bold;}.snippet .error .lineNumber {background-color: #faa;color: #333;font-weight: bold;}.snippet .line:first-child .lineNumber {padding-top: 5px;}.snippet .line:last-child .lineNumber {padding-bottom: 5px;}\n"
     ]
    }
   ],
   "source": [
    "import gzip\n",
    "f=gzip.open('Basics_NLP/errors.css.gz','rb')\n",
    "file_content=f.read()\n",
    "print (file_content)"
   ]
  },
  {
   "cell_type": "markdown",
   "metadata": {},
   "source": [
    "# !! Attention !! - Prerequisite Alert !!"
   ]
  },
  {
   "cell_type": "markdown",
   "metadata": {},
   "source": [
    "<img style=\"margin:auto;\" src=\"Demo/got1.jpeg\"></img>"
   ]
  },
  {
   "cell_type": "markdown",
   "metadata": {
    "deletable": true,
    "editable": true,
    "nbpresent": {
     "id": "067fd204-9e00-4990-9be5-faeb286eb103"
    }
   },
   "source": [
    "#### To get list of files present in a directory use \"listdir()\" function in \"os\" module"
   ]
  },
  {
   "cell_type": "code",
   "execution_count": 43,
   "metadata": {
    "collapsed": false,
    "deletable": true,
    "editable": true,
    "nbpresent": {
     "id": "2475f564-8f71-4da5-bf11-a38ce11e5694"
    }
   },
   "outputs": [
    {
     "name": "stdout",
     "output_type": "stream",
     "text": [
      "['Game.of.Thrones.S06E05.HDTV.FUM.en.srt', 'Game.of.Thrones.S06E01.HDTV.en.srt', 'Game.of.Thrones.S06E06.HDTV.KILLERS-AVS.en.srt', 'Game.of.Thrones.S06E02.HDTV.en.srt', 'Game.of.Thrones.S06E03.HDTV.RMTeam.en.srt', 'Game.of.Thrones.S06E07.HDTV.en.srt', 'Game.of.Thrones.S06E04.HDTV.en.srt', 'Game.of.Thrones.S06E10.HDTV.AVS.en..srt', 'Game.of.Thrones.S06E09.HDTV.en..srt', 'Game.of.Thrones.S06E08.HDTV.12-06-2016.en..srt']\n"
     ]
    }
   ],
   "source": [
    "import os\n",
    "\n",
    "print (os.listdir('Demo/subtitles/')) # fol loop"
   ]
  },
  {
   "cell_type": "markdown",
   "metadata": {
    "deletable": true,
    "editable": true,
    "nbpresent": {
     "id": "0e9898ce-cd18-4625-ac41-b236062eff3d"
    }
   },
   "source": [
    "#### Getting list of files with command line syntaxes\n"
   ]
  },
  {
   "cell_type": "code",
   "execution_count": 45,
   "metadata": {
    "collapsed": false,
    "deletable": true,
    "editable": true,
    "nbpresent": {
     "id": "d095adc2-3a29-468b-912d-d119ce4e95f0"
    }
   },
   "outputs": [
    {
     "name": "stdout",
     "output_type": "stream",
     "text": [
      "['Game.of.Thrones.S06E01.HDTV.en.srt', 'Game.of.Thrones.S06E02.HDTV.en.srt', 'Game.of.Thrones.S06E03.HDTV.RMTeam.en.srt', 'Game.of.Thrones.S06E04.HDTV.en.srt', 'Game.of.Thrones.S06E05.HDTV.FUM.en.srt', 'Game.of.Thrones.S06E06.HDTV.KILLERS-AVS.en.srt', 'Game.of.Thrones.S06E07.HDTV.en.srt', 'Game.of.Thrones.S06E08.HDTV.12-06-2016.en..srt', 'Game.of.Thrones.S06E09.HDTV.en..srt', 'Game.of.Thrones.S06E10.HDTV.AVS.en..srt']\n",
      "1\r\n",
      "00:00:05,435 --> 00:00:08,103\r\n",
      "<i>(theme music \n",
      "1\r\n",
      "00:00:04,285 --> 00:00:08,219\r\n",
      "Surrender by nig\n",
      "﻿1\r\n",
      "00:00:06,196 --> 00:00:08,897\r\n",
      "<i>( theme mu\n",
      "1\r\n",
      "00:00:00,884 --> 00:01:52,274\r\n",
      "Sync & correctio\n",
      "1\r\n",
      "00:00:05,881 --> 00:00:08,581\r\n",
      "<i>(theme music \n",
      "1\r\n",
      "00:00:00,100 --> 00:01:52,320\r\n",
      "www.TUSUBTITULO.\n",
      "1\r\n",
      "00:00:07,142 --> 00:00:09,209\r\n",
      "That's it. Get i\n",
      "1\r\n",
      "00:00:05,762 --> 00:00:08,462\r\n",
      "<i>(theme music \n",
      "1\r\n",
      "00:00:05,800 --> 00:01:52,420\r\n",
      "Uploaded by: Som\n",
      "﻿1\r\n",
      "00:00:01,800 --> 00:00:01,800\r\n",
      "Weak men will\n"
     ]
    }
   ],
   "source": [
    "a = !ls 'Demo/subtitles/'\n",
    "\n",
    "print (a)\n",
    "for files in a:\n",
    "    f = open('Demo/subtitles/'+files).read()\n",
    "    print (f[:50])"
   ]
  },
  {
   "cell_type": "markdown",
   "metadata": {
    "collapsed": true,
    "deletable": true,
    "editable": true,
    "nbpresent": {
     "id": "b48e341b-fc30-493b-b035-1fb5ecf29a76"
    }
   },
   "source": [
    "# Regular Expression "
   ]
  },
  {
   "cell_type": "markdown",
   "metadata": {
    "deletable": true,
    "editable": true,
    "nbpresent": {
     "id": "9ca357e5-9105-4d85-8667-7bba3b30412f"
    }
   },
   "source": [
    "- Regular expression is a tiny, highly specialized programming language embedded inside Python and made available through the 're' module.\n",
    "- Does this string match the pattern?\n",
    "- Is there a match for the pattern anywhere in this string?\n",
    "- Most characters match themselves /test/ case senitive: 'test' case insensitive: 'Test', 'TEST', 'test'...\n",
    "- Few characters have special meaning. These are called 'Metacharacters'\n",
    "- Metachatacters are . ^ $ * + ? { } [ ] \\ | ( )\n",
    "- The meta characters can be used as ordinary characters by prepending a backslash(\\) to them.\n"
   ]
  },
  {
   "cell_type": "markdown",
   "metadata": {
    "deletable": true,
    "editable": true,
    "nbpresent": {
     "id": "505ae9b3-af84-431e-8373-6ad19455ddb8"
    }
   },
   "source": [
    "#### Some Examples of Regular expression and its matching string\n",
    "\n",
    "##### Letters and square bracket\n",
    "- film           -> 'film'\n",
    "- [wW]oodchuck   -> 'Woodchuck', 'woodchuck'\n",
    "- [1234567890]   -> Any digit\n",
    "- [A-Z]          -> Any uppercase letter\n",
    "- [A-Za-z]       -> ???\n",
    "\n",
    "##### On Negation \n",
    "- Carat means negation only when first in []\n",
    "- [^sS]       -> neither 's' not 'S'\n",
    "- [^A-Z]      ->  ???\n",
    "- [^e^]       ->  ???\n",
    "- [a^b]       -> match pattern 'a^b'\n",
    "\n",
    "##### Disjunction \n",
    "- represented by | operator \n",
    "- a|A same as [aA]\n",
    "\n",
    "##### Regular Expressions ?  *  +  .\n",
    "\n",
    "- ? : optional previous character e.g.  colou?r -> 'color', 'colour'\n",
    "- \\* : Zero or more occurance of previous character e.g.  oo\\*h! -> 'oh!', 'ooh!', 'oooh!' ...\n",
    "- \\+ : One or more occurance of previous character e.g.  oo+h! -> 'ooh!', 'oooh!'...\n",
    "- . : any character e.g. b.g -> 'beg', 'bug', 'bag', 'b3g' ...\n",
    "- .\\* : ???\n",
    "\n",
    "##### Anchors ^  \\$\n",
    "- outside [ ] ^ represents begining of a string and \\$ reprents end of a string.\n",
    "- ^[A-Z] : <u>H</u>ello world \n",
    "- ^[^A-Z]: ????\n",
    "- \\\\\\.\\$ : The end<u>\\.</u>\n",
    "- \\.\\$: any en<u>d</u>"
   ]
  },
  {
   "cell_type": "markdown",
   "metadata": {
    "deletable": true,
    "editable": true,
    "nbpresent": {
     "id": "47764538-2534-44de-9633-a207ae94a92f"
    }
   },
   "source": [
    "### Now Lets do Hands on the code\n",
    "\n",
    "##### Some functions in re\n",
    "- compile() : It returns a regular expression object for a given pattern. Created object can be latter used for search, match etc.\n",
    "- match() : Determine if the RE matches at the beginning of the string.\n",
    "- search(): Scan through a string, looking for any location where this RE matches.\n",
    "- findall() : Find all substrings where the RE matches, and returns them as a list.\n",
    "- finditer(): Find all substrings where the RE matches, and returns them as an iterator.\n",
    "\n"
   ]
  },
  {
   "cell_type": "code",
   "execution_count": 47,
   "metadata": {
    "collapsed": false,
    "deletable": true,
    "editable": true,
    "nbpresent": {
     "id": "781ba8a3-bcc3-45f0-865a-e726c969705d"
    }
   },
   "outputs": [
    {
     "name": "stdout",
     "output_type": "stream",
     "text": [
      "None\n"
     ]
    }
   ],
   "source": [
    "import re\n",
    "p = re.compile('[a-z]+')\n",
    "print(p.match(\" \"))"
   ]
  },
  {
   "cell_type": "code",
   "execution_count": 48,
   "metadata": {
    "collapsed": false,
    "deletable": true,
    "editable": true,
    "nbpresent": {
     "id": "642c1126-36e9-4ab9-b074-36ac79eccd6f"
    }
   },
   "outputs": [
    {
     "name": "stdout",
     "output_type": "stream",
     "text": [
      "<_sre.SRE_Match object at 0x7fcde08f95e0>\n"
     ]
    }
   ],
   "source": [
    "print(p.match(\"hello\"))\n"
   ]
  },
  {
   "cell_type": "markdown",
   "metadata": {
    "deletable": true,
    "editable": true,
    "nbpresent": {
     "id": "66a9677b-91e7-4e8a-9a4f-1490be6ccb22"
    }
   },
   "source": [
    "- group() : Return the string matched by the RE\n",
    "- start() : Return the starting position of the match\n",
    "- end()\t :  Return the ending position of the match\n",
    "- span() : Return a tuple containing the (start, end) positions of the match"
   ]
  },
  {
   "cell_type": "code",
   "execution_count": 49,
   "metadata": {
    "collapsed": false,
    "deletable": true,
    "editable": true,
    "nbpresent": {
     "id": "3148382b-cfb1-4eba-87da-b8c804cd42c3"
    }
   },
   "outputs": [
    {
     "name": "stdout",
     "output_type": "stream",
     "text": [
      "hello\n",
      "0\n",
      "5\n",
      "(0, 5)\n"
     ]
    }
   ],
   "source": [
    "m = p.match(\"hello\")\n",
    "print (m.group())\n",
    "print (m. start())\n",
    "print (m.end())\n",
    "print (m.span())"
   ]
  },
  {
   "cell_type": "code",
   "execution_count": 50,
   "metadata": {
    "collapsed": false,
    "deletable": true,
    "editable": true,
    "nbpresent": {
     "id": "6955205f-4ae5-4af3-918d-98f53c581d3f"
    }
   },
   "outputs": [
    {
     "name": "stdout",
     "output_type": "stream",
     "text": [
      "None\n"
     ]
    }
   ],
   "source": [
    "print(p.match('::: message is displayed'))"
   ]
  },
  {
   "cell_type": "code",
   "execution_count": 51,
   "metadata": {
    "collapsed": false,
    "deletable": true,
    "editable": true,
    "nbpresent": {
     "id": "dd885e70-c0b3-47c5-a93f-f0d3712b158d"
    }
   },
   "outputs": [
    {
     "name": "stdout",
     "output_type": "stream",
     "text": [
      "<_sre.SRE_Match object at 0x7fcde08f9510>\n"
     ]
    }
   ],
   "source": [
    "m = p.search('::: message is displayed'); print(m)  "
   ]
  },
  {
   "cell_type": "code",
   "execution_count": 52,
   "metadata": {
    "collapsed": false,
    "deletable": true,
    "editable": true,
    "nbpresent": {
     "id": "9fc07d52-3633-483b-9b12-479ea5aae7e8"
    }
   },
   "outputs": [
    {
     "name": "stdout",
     "output_type": "stream",
     "text": [
      "message\n",
      "(4, 11)\n"
     ]
    }
   ],
   "source": [
    "print (m.group())\n",
    "print (m.span())"
   ]
  },
  {
   "cell_type": "code",
   "execution_count": 53,
   "metadata": {
    "collapsed": false,
    "deletable": true,
    "editable": true,
    "nbpresent": {
     "id": "387d144f-b3bf-42b7-a9dd-8a20a74e5ecf"
    }
   },
   "outputs": [
    {
     "name": "stdout",
     "output_type": "stream",
     "text": [
      "('Match found: ', ['string', 'goes', 'here'])\n"
     ]
    }
   ],
   "source": [
    "m = p.findall( 'string goes here' )\n",
    "if m:\n",
    "    print('Match found: ', m)\n",
    "else:\n",
    "    print('No match')"
   ]
  },
  {
   "cell_type": "markdown",
   "metadata": {
    "deletable": true,
    "editable": true,
    "nbpresent": {
     "id": "1204b7eb-7238-408c-b072-96024fe34eba"
    }
   },
   "source": [
    "More details of re module can be found at \n",
    "\n",
    "- https://docs.python.org/2/library/re.html\n",
    "- https://docs.python.org/3/howto/regex.html"
   ]
  },
  {
   "cell_type": "markdown",
   "metadata": {
    "collapsed": true,
    "deletable": true,
    "editable": true,
    "nbpresent": {
     "id": "25114733-3356-4f07-a84e-7f7f8ce5d7ea"
    }
   },
   "source": [
    "## Let's Work on some real problems \n",
    "\n",
    "\n",
    "- Lets see game of thrones subtitle"
   ]
  },
  {
   "cell_type": "code",
   "execution_count": 57,
   "metadata": {
    "collapsed": false,
    "nbpresent": {
     "id": "7e1f4097-5148-48fc-87d0-f5fdbc256e61"
    }
   },
   "outputs": [
    {
     "name": "stdout",
     "output_type": "stream",
     "text": [
      "1\r\n",
      "00:00:05,435 --> 00:00:08,103\r\n",
      "<i>(theme music playing)</i>\r\n",
      "\r\n",
      "2\r\n",
      "00:01:36,644 --> 00:01:44,644\r\n",
      "<font color=\"#ec14bd\">Sync & corrections by Somnath Yadav\r\n",
      "join me on Instagram @somnath66 </font>\r\n",
      "\r\n",
      "3\r\n",
      "00:01:52,242 --> 00:01:55,176\r\n",
      "(wind blowing)\r\n",
      "\r\n",
      "4\r\n",
      "00:02:02,803 --> 00:02:06,721\r\n",
      "<i>(wolf how\n"
     ]
    }
   ],
   "source": [
    "SubtFile = open('Demo/subtitles/Game.of.Thrones.S06E01.HDTV.en.srt','r')\n",
    "\n",
    "content = SubtFile.read()\n",
    "print (content[:300])\n"
   ]
  },
  {
   "cell_type": "markdown",
   "metadata": {
    "nbpresent": {
     "id": "0feb720f-5a39-4e20-bc13-cd3328ba5c26"
    }
   },
   "source": [
    "#### How to extract non dialogue messages  "
   ]
  },
  {
   "cell_type": "code",
   "execution_count": 61,
   "metadata": {
    "collapsed": false,
    "nbpresent": {
     "id": "5ad7f177-46c2-4cfc-93a5-ae27e2fc5cc3"
    }
   },
   "outputs": [
    {
     "data": {
      "text/plain": [
       "'1\\r\\n00:00:05,435 --> 00:00:08,103\\r\\n<i>(theme music playing)</i>\\r\\n\\r\\n2\\r\\n00:01:36,644 --> 00:01:44,644\\r\\n<font color=\"#ec14bd\">Sync & corrections by Somnath Yadav\\r\\njoin me on Instagram @somnath66 </font>\\r\\n\\r\\n3\\r\\n00:01:52,242 --> 00:01:55,176\\r\\n(wind blowing)\\r\\n\\r\\n4\\r\\n00:02:02,803 --> 00:02:06,721\\r\\n<i>(wolf howling)</i>\\r\\n\\r\\n5\\r\\n00:02:12,396 --> 00:02:16,648\\r\\n<i>(howling continues)</i>\\r\\n\\r\\n6\\r\\n00:02:22,155 --> 00:02:27,158\\r\\n<i>(howling continues)</i>\\r\\n\\r\\n7\\r\\n00:02:31,465 --> 00:02:34,082\\r\\n<i>(door rattles)</i>\\r\\n\\r\\n'"
      ]
     },
     "execution_count": 61,
     "metadata": {},
     "output_type": "execute_result"
    }
   ],
   "source": [
    "content[:500]"
   ]
  },
  {
   "cell_type": "code",
   "execution_count": 62,
   "metadata": {
    "collapsed": true,
    "nbpresent": {
     "id": "b06b2715-561e-4b04-bfa1-5fa6feeb9aed"
    }
   },
   "outputs": [],
   "source": [
    "ptn = re.compile('\\(.*\\)')"
   ]
  },
  {
   "cell_type": "code",
   "execution_count": 63,
   "metadata": {
    "collapsed": false,
    "nbpresent": {
     "id": "e20bd4e0-77d8-4d2a-8f01-fe5357d3aeae"
    }
   },
   "outputs": [
    {
     "data": {
      "text/plain": [
       "['(theme music playing)',\n",
       " '(wind blowing)',\n",
       " '(wolf howling)',\n",
       " '(howling continues)',\n",
       " '(howling continues)',\n",
       " '(door rattles)',\n",
       " '(howling continues)',\n",
       " '(door rattling)',\n",
       " '(wolf whimpering)',\n",
       " '(rattling continues)',\n",
       " '(howling continues)',\n",
       " '(Ghost whimpering, howling)',\n",
       " '(rattling continues)',\n",
       " '(whimpering, howling continue)',\n",
       " '(Ghost howling)',\n",
       " '(howling continues)',\n",
       " '(door closes)',\n",
       " '(knocking on door)',\n",
       " '(door closes)',\n",
       " '(men shouting)',\n",
       " '(pounds)',\n",
       " '(shouting stops)',\n",
       " '(men murmuring)',\n",
       " '(shouting resumes)',\n",
       " '(men shouting)',\n",
       " '(pounds on table)',\n",
       " '(shouting stops)',\n",
       " '(men murmuring)',\n",
       " '(whimpering)',\n",
       " '(door closes)',\n",
       " '(bolt clicks)',\n",
       " '(wind howling)',\n",
       " '(dogs barking)',\n",
       " '(barking continues)',\n",
       " '(panting)',\n",
       " '(barking continues)',\n",
       " '(gasps)',\n",
       " '(barking continues)',\n",
       " '(gasping)',\n",
       " '(shivering)',\n",
       " '(gasping)',\n",
       " '(shivering)',\n",
       " '(dogs barking)',\n",
       " '(barking, howling)',\n",
       " '(men shouting)',\n",
       " '(barking)',\n",
       " '(horse whinnies)',\n",
       " '(dogs barking)',\n",
       " '(men shouting)',\n",
       " '(whimpering)',\n",
       " '(horse whinnies)',\n",
       " '(growling, barking)',\n",
       " '(barking continues)',\n",
       " '(man #3 grunting)',\n",
       " '(whimpering)',\n",
       " '(horse whinnies)',\n",
       " '(shouts)',\n",
       " '(whinnies)',\n",
       " '(roars)',\n",
       " '(grunts)',\n",
       " '(groans)',\n",
       " '(shouts)',\n",
       " '(whinnies)',\n",
       " '(neighs)',\n",
       " '(whinnies)',\n",
       " '(groans)',\n",
       " '(groaning)',\n",
       " '(grunts)',\n",
       " '(panting)',\n",
       " '(squelches)',\n",
       " '(gasping)',\n",
       " '(seagulls screeching)',\n",
       " '(door opens)',\n",
       " '(seagull screeching)',\n",
       " '(bell tolling)',\n",
       " '(gasps)',\n",
       " '(door opens)',\n",
       " '(sighs)',\n",
       " '(gasps)',\n",
       " '(door opens, closes)',\n",
       " '(gasping)',\n",
       " '(Doran coughing)',\n",
       " '(scoffs)',\n",
       " '(door opens, door closes)',\n",
       " '(baby fussing)',\n",
       " '(speaks Valyrian)',\n",
       " '(men shouting in Valyrian)',\n",
       " '(people shouting)',\n",
       " '(bell tolling)',\n",
       " '(shouting continues)',\n",
       " '(bell continues tolling)',\n",
       " '(people shouting)',\n",
       " '(shouts in Dothraki)',\n",
       " '(groans)',\n",
       " '(chuckles, kisses)',\n",
       " '(men laugh)',\n",
       " '(chatter)',\n",
       " '(distant dog barking)',\n",
       " '(chatter continues)',\n",
       " '(chatter continues)',\n",
       " '(coins jingle)',\n",
       " '(groans)',\n",
       " '(groans)',\n",
       " '(grunts)',\n",
       " '(panting)',\n",
       " '(grunts)',\n",
       " '(panting)',\n",
       " '(growling)',\n",
       " '(pounding)',\n",
       " '(footsteps departing)']"
      ]
     },
     "execution_count": 63,
     "metadata": {},
     "output_type": "execute_result"
    }
   ],
   "source": [
    "NonDlgList = ptn.findall(content)\n",
    "NonDlgList"
   ]
  },
  {
   "cell_type": "markdown",
   "metadata": {
    "nbpresent": {
     "id": "79785655-08c9-47d3-841d-3b08b2c11e57"
    }
   },
   "source": [
    "### How to get all time elements present in the file"
   ]
  },
  {
   "cell_type": "code",
   "execution_count": 66,
   "metadata": {
    "collapsed": false,
    "nbpresent": {
     "id": "007334d2-0364-4140-a9b2-d803a7ada6c9"
    }
   },
   "outputs": [
    {
     "data": {
      "text/plain": [
       "['00:00:05,435',\n",
       " '00:00:08,103',\n",
       " '00:01:36,644',\n",
       " '00:01:44,644',\n",
       " '00:01:52,242',\n",
       " '00:01:55,176',\n",
       " '00:02:02,803',\n",
       " '00:02:06,721',\n",
       " '00:02:12,396',\n",
       " '00:02:16,648',\n",
       " '00:02:22,155',\n",
       " '00:02:27,158',\n",
       " '00:02:31,465',\n",
       " '00:02:34,082',\n",
       " '00:02:37,721',\n",
       " '00:02:41,589',\n",
       " '00:02:47,097',\n",
       " '00:02:49,314',\n",
       " '00:02:49,433',\n",
       " '00:02:52,067',\n",
       " '00:02:53,520',\n",
       " '00:02:55,236',\n",
       " '00:02:58,075',\n",
       " '00:03:01,860',\n",
       " '00:03:01,945',\n",
       " '00:03:06,081',\n",
       " '00:03:06,166',\n",
       " '00:03:10,785',\n",
       " '00:03:25,635',\n",
       " '00:03:27,769',\n",
       " '00:03:32,943',\n",
       " '00:03:35,276',\n",
       " '00:03:48,542',\n",
       " '00:03:50,325',\n",
       " '00:04:05,092',\n",
       " '00:04:07,008',\n",
       " '00:04:14,985',\n",
       " '00:04:16,935',\n",
       " '00:04:45,382',\n",
       " '00:04:47,549',\n",
       " '00:04:51,805',\n",
       " '00:04:55,023',\n",
       " '00:04:55,108',\n",
       " '00:04:56,724',\n",
       " '00:04:59,946',\n",
       " '00:05:01,196',\n",
       " '00:05:02,532',\n",
       " '00:05:05,150',\n",
       " '00:05:05,235',\n",
       " '00:05:07,235']"
      ]
     },
     "execution_count": 66,
     "metadata": {},
     "output_type": "execute_result"
    }
   ],
   "source": [
    "ptn2 = re.compile('\\d\\d:\\d\\d:\\d\\d,\\d\\d\\d')\n",
    "AllTimeList = ptn2.findall(content)\n",
    "AllTimeList[:50]"
   ]
  },
  {
   "cell_type": "markdown",
   "metadata": {
    "nbpresent": {
     "id": "c10dc69e-b31c-40ed-8ff2-d1fca0f64df2"
    }
   },
   "source": [
    "### How to get starting and ending time for each dialogue"
   ]
  },
  {
   "cell_type": "code",
   "execution_count": 67,
   "metadata": {
    "collapsed": false,
    "nbpresent": {
     "id": "8f0e06a1-9730-4c57-8685-206d574fb8b4"
    }
   },
   "outputs": [
    {
     "data": {
      "text/plain": [
       "['00:00:05,435 --> 00:00:08,103',\n",
       " '00:01:36,644 --> 00:01:44,644',\n",
       " '00:01:52,242 --> 00:01:55,176',\n",
       " '00:02:02,803 --> 00:02:06,721',\n",
       " '00:02:12,396 --> 00:02:16,648',\n",
       " '00:02:22,155 --> 00:02:27,158',\n",
       " '00:02:31,465 --> 00:02:34,082',\n",
       " '00:02:37,721 --> 00:02:41,589',\n",
       " '00:02:47,097 --> 00:02:49,314',\n",
       " '00:02:49,433 --> 00:02:52,067',\n",
       " '00:02:53,520 --> 00:02:55,236',\n",
       " '00:02:58,075 --> 00:03:01,860',\n",
       " '00:03:01,945 --> 00:03:06,081',\n",
       " '00:03:06,166 --> 00:03:10,785',\n",
       " '00:03:25,635 --> 00:03:27,769',\n",
       " '00:03:32,943 --> 00:03:35,276',\n",
       " '00:03:48,542 --> 00:03:50,325',\n",
       " '00:04:05,092 --> 00:04:07,008',\n",
       " '00:04:14,985 --> 00:04:16,935',\n",
       " '00:04:45,382 --> 00:04:47,549',\n",
       " '00:04:51,805 --> 00:04:55,023',\n",
       " '00:04:55,108 --> 00:04:56,724',\n",
       " '00:04:59,946 --> 00:05:01,196',\n",
       " '00:05:02,532 --> 00:05:05,150',\n",
       " '00:05:05,235 --> 00:05:07,235',\n",
       " '00:05:10,157 --> 00:05:12,407',\n",
       " '00:05:13,743 --> 00:05:15,577',\n",
       " '00:05:38,852 --> 00:05:40,935',\n",
       " '00:05:57,087 --> 00:06:00,455',\n",
       " '00:06:00,590 --> 00:06:02,707',\n",
       " '00:06:06,713 --> 00:06:08,880',\n",
       " '00:06:10,800 --> 00:06:12,600',\n",
       " '00:06:26,149 --> 00:06:28,900',\n",
       " '00:06:32,789 --> 00:06:34,489',\n",
       " '00:06:34,574 --> 00:06:36,407',\n",
       " '00:06:36,493 --> 00:06:37,742',\n",
       " '00:06:40,046 --> 00:06:42,086',\n",
       " '00:06:42,132 --> 00:06:45,250',\n",
       " '00:06:45,335 --> 00:06:47,885',\n",
       " '00:06:48,004 --> 00:06:49,170',\n",
       " '00:06:50,423 --> 00:06:52,140',\n",
       " '00:06:52,225 --> 00:06:54,509',\n",
       " '00:06:54,594 --> 00:06:56,894',\n",
       " '00:06:57,013 --> 00:06:58,680',\n",
       " '00:06:58,765 --> 00:07:02,433',\n",
       " '00:07:02,519 --> 00:07:04,736',\n",
       " '00:07:04,854 --> 00:07:07,071',\n",
       " '00:07:07,190 --> 00:07:10,275',\n",
       " '00:07:11,444 --> 00:07:13,077',\n",
       " '00:07:13,196 --> 00:07:15,530']"
      ]
     },
     "execution_count": 67,
     "metadata": {},
     "output_type": "execute_result"
    }
   ],
   "source": [
    "ptn3 = re.compile('\\d\\d:\\d\\d:\\d\\d,\\d\\d\\d\\s*-->\\s*\\d\\d:\\d\\d:\\d\\d,\\d\\d\\d')\n",
    "AllTimeList = ptn3.findall(content)\n",
    "AllTimeList[:50]"
   ]
  }
 ],
 "metadata": {
  "anaconda-cloud": {},
  "kernelspec": {
   "display_name": "Python 2",
   "language": "python",
   "name": "python2"
  },
  "language_info": {
   "codemirror_mode": {
    "name": "ipython",
    "version": 2
   },
   "file_extension": ".py",
   "mimetype": "text/x-python",
   "name": "python",
   "nbconvert_exporter": "python",
   "pygments_lexer": "ipython2",
   "version": "2.7.12"
  },
  "nbpresent": {
   "slides": {
    "0962b903-0f18-4b12-894e-ce907794178e": {
     "id": "0962b903-0f18-4b12-894e-ce907794178e",
     "prev": "a001c6f3-9c4f-429e-8ce3-40d1d1db6298",
     "regions": {
      "6a87358c-bf35-42b8-ae79-f806fa2f71b9": {
       "attrs": {
        "height": 0.8,
        "width": 0.8,
        "x": 0.1,
        "y": 0.1
       },
       "content": {
        "cell": "505ae9b3-af84-431e-8373-6ad19455ddb8",
        "part": "whole"
       },
       "id": "6a87358c-bf35-42b8-ae79-f806fa2f71b9"
      }
     }
    },
    "0c6ecf86-46c9-428a-b0d1-87584bc18891": {
     "id": "0c6ecf86-46c9-428a-b0d1-87584bc18891",
     "prev": "12f3f1eb-89b6-464d-888d-fba2db287241",
     "regions": {
      "32eeca41-1ac0-4575-8804-c419a761c800": {
       "attrs": {
        "height": 0.8,
        "width": 0.8,
        "x": 0.1,
        "y": 0.1
       },
       "content": {
        "cell": "0feb720f-5a39-4e20-bc13-cd3328ba5c26",
        "part": "whole"
       },
       "id": "32eeca41-1ac0-4575-8804-c419a761c800"
      }
     }
    },
    "12f3f1eb-89b6-464d-888d-fba2db287241": {
     "id": "12f3f1eb-89b6-464d-888d-fba2db287241",
     "prev": "a3d66299-e69d-4549-bf5d-cf0ed41fa270",
     "regions": {
      "6d259b85-d301-47ac-9781-431ff42e3151": {
       "attrs": {
        "height": 0.8,
        "width": 0.8,
        "x": 0.1,
        "y": 0.1
       },
       "content": {
        "cell": "7e1f4097-5148-48fc-87d0-f5fdbc256e61",
        "part": "whole"
       },
       "id": "6d259b85-d301-47ac-9781-431ff42e3151"
      }
     }
    },
    "15ea34c6-4c5d-4fc2-815d-096f5ec1965f": {
     "id": "15ea34c6-4c5d-4fc2-815d-096f5ec1965f",
     "prev": "7020809b-7063-4f0e-bcc2-07c56ff0c410",
     "regions": {
      "757bec73-bf94-4123-94a8-a1916776e80a": {
       "attrs": {
        "height": 0.8,
        "width": 0.8,
        "x": 0.1,
        "y": 0.1
       },
       "content": {
        "cell": "067fd204-9e00-4990-9be5-faeb286eb103",
        "part": "whole"
       },
       "id": "757bec73-bf94-4123-94a8-a1916776e80a"
      }
     }
    },
    "1e7787b7-fc87-4a37-9455-a3cdf8ba8e21": {
     "id": "1e7787b7-fc87-4a37-9455-a3cdf8ba8e21",
     "prev": "e3582670-06d4-49e1-adb2-c7b7539e0529",
     "regions": {
      "ba54b880-a2d8-44b4-9f2c-d8418c3e41f9": {
       "attrs": {
        "height": 0.8,
        "width": 0.8,
        "x": 0.1,
        "y": 0.1
       },
       "content": {
        "cell": "c10dc69e-b31c-40ed-8ff2-d1fca0f64df2",
        "part": "whole"
       },
       "id": "ba54b880-a2d8-44b4-9f2c-d8418c3e41f9"
      }
     }
    },
    "2400e912-e3f9-4929-82db-021feb297c38": {
     "id": "2400e912-e3f9-4929-82db-021feb297c38",
     "prev": "b1f586bd-013e-4fbe-aa79-b3da2e66d67f",
     "regions": {
      "3c791456-47c4-409e-b5bb-ed45d28e3b0c": {
       "attrs": {
        "height": 0.8,
        "width": 0.8,
        "x": 0.1,
        "y": 0.1
       },
       "content": {
        "cell": "d095adc2-3a29-468b-912d-d119ce4e95f0",
        "part": "whole"
       },
       "id": "3c791456-47c4-409e-b5bb-ed45d28e3b0c"
      }
     }
    },
    "321a4267-0735-4356-a831-2ef38fba02c6": {
     "id": "321a4267-0735-4356-a831-2ef38fba02c6",
     "prev": "59f8b360-39b4-440f-a460-c6f3f325601c",
     "regions": {
      "e0faa5cf-f2c2-45ce-b708-eba035f1ec41": {
       "attrs": {
        "height": 0.8,
        "width": 0.8,
        "x": 0.1,
        "y": 0.1
       },
       "content": {
        "cell": "6955205f-4ae5-4af3-918d-98f53c581d3f",
        "part": "whole"
       },
       "id": "e0faa5cf-f2c2-45ce-b708-eba035f1ec41"
      }
     }
    },
    "322fdf21-9917-46bc-9bbd-e32eef5de5c7": {
     "id": "322fdf21-9917-46bc-9bbd-e32eef5de5c7",
     "prev": "f22fd39c-ae09-4ad9-8708-8011242b7189",
     "regions": {
      "08852c16-3c30-47f7-b9e7-1c09bdd14469": {
       "attrs": {
        "height": 0.8,
        "width": 0.8,
        "x": 0.1,
        "y": 0.1
       },
       "content": {
        "cell": "387d144f-b3bf-42b7-a9dd-8a20a74e5ecf",
        "part": "whole"
       },
       "id": "08852c16-3c30-47f7-b9e7-1c09bdd14469"
      }
     }
    },
    "3b2a09ea-3757-45bd-9493-1a4150666ac2": {
     "id": "3b2a09ea-3757-45bd-9493-1a4150666ac2",
     "prev": "0c6ecf86-46c9-428a-b0d1-87584bc18891",
     "regions": {
      "3787e6e4-7adb-4810-9945-459502871563": {
       "attrs": {
        "height": 0.8,
        "width": 0.8,
        "x": 0.1,
        "y": 0.1
       },
       "content": {
        "cell": "5ad7f177-46c2-4cfc-93a5-ae27e2fc5cc3",
        "part": "whole"
       },
       "id": "3787e6e4-7adb-4810-9945-459502871563"
      }
     }
    },
    "43e94e47-70f5-4b84-a5b9-6a1557b4e7d2": {
     "id": "43e94e47-70f5-4b84-a5b9-6a1557b4e7d2",
     "prev": "0962b903-0f18-4b12-894e-ce907794178e",
     "regions": {
      "339921bb-e1f6-4822-9fbe-94bf3bc3a1d1": {
       "attrs": {
        "height": 0.8,
        "width": 0.8,
        "x": 0.1,
        "y": 0.1
       },
       "content": {
        "cell": "47764538-2534-44de-9633-a207ae94a92f",
        "part": "whole"
       },
       "id": "339921bb-e1f6-4822-9fbe-94bf3bc3a1d1"
      }
     }
    },
    "4569e227-5805-4657-81d3-ea44b9ba7618": {
     "id": "4569e227-5805-4657-81d3-ea44b9ba7618",
     "prev": "a5d7f727-bb7c-45d4-81ea-6b71da2b7266",
     "regions": {
      "24d1d8a6-2b09-48a8-8171-651d15dd20c5": {
       "attrs": {
        "height": 0.8,
        "width": 0.8,
        "x": 0.1,
        "y": 0.1
       },
       "content": {
        "cell": "d6bda47f-f7a5-4623-a66b-c8819f9227c4",
        "part": "whole"
       },
       "id": "24d1d8a6-2b09-48a8-8171-651d15dd20c5"
      }
     }
    },
    "4a3b7fe9-8ce7-4359-911b-e8b93f25ac91": {
     "id": "4a3b7fe9-8ce7-4359-911b-e8b93f25ac91",
     "prev": "74b319c3-ec52-4cda-a3b1-0b8b8139cb69",
     "regions": {
      "c01f08fc-60a4-4719-afaf-05b84e36f7ad": {
       "attrs": {
        "height": 0.8,
        "width": 0.8,
        "x": 0.1,
        "y": 0.1
       },
       "content": {
        "cell": "642c1126-36e9-4ab9-b074-36ac79eccd6f",
        "part": "whole"
       },
       "id": "c01f08fc-60a4-4719-afaf-05b84e36f7ad"
      }
     }
    },
    "4df57a66-5c1d-42ef-9c54-41a3d2fb579c": {
     "id": "4df57a66-5c1d-42ef-9c54-41a3d2fb579c",
     "prev": "321a4267-0735-4356-a831-2ef38fba02c6",
     "regions": {
      "6138408e-8b1c-4a60-b990-66bf6225c76b": {
       "attrs": {
        "height": 0.8,
        "width": 0.8,
        "x": 0.1,
        "y": 0.1
       },
       "content": {
        "cell": "dd885e70-c0b3-47c5-a93f-f0d3712b158d",
        "part": "whole"
       },
       "id": "6138408e-8b1c-4a60-b990-66bf6225c76b"
      }
     }
    },
    "54341a48-2611-47f9-be7f-dec7f30cad2c": {
     "id": "54341a48-2611-47f9-be7f-dec7f30cad2c",
     "prev": "4a3b7fe9-8ce7-4359-911b-e8b93f25ac91",
     "regions": {
      "7a5491f5-ae1d-429d-a41c-f1c9307e9f60": {
       "attrs": {
        "height": 0.8,
        "width": 0.8,
        "x": 0.1,
        "y": 0.1
       },
       "content": {
        "cell": "66a9677b-91e7-4e8a-9a4f-1490be6ccb22",
        "part": "whole"
       },
       "id": "7a5491f5-ae1d-429d-a41c-f1c9307e9f60"
      }
     }
    },
    "56108da4-2d48-46cd-a564-0534e30f536a": {
     "id": "56108da4-2d48-46cd-a564-0534e30f536a",
     "prev": "873c4c1d-d8d2-420c-ad16-89ce2d44e336",
     "regions": {
      "54c069d4-77d9-4e8d-9e71-682a13df64d8": {
       "attrs": {
        "height": 0.8,
        "width": 0.8,
        "x": 0.1,
        "y": 0.1
       },
       "content": {
        "cell": "2a3ba13f-6159-4aa9-a085-0b26a5d68605",
        "part": "whole"
       },
       "id": "54c069d4-77d9-4e8d-9e71-682a13df64d8"
      }
     }
    },
    "59f8b360-39b4-440f-a460-c6f3f325601c": {
     "id": "59f8b360-39b4-440f-a460-c6f3f325601c",
     "prev": "54341a48-2611-47f9-be7f-dec7f30cad2c",
     "regions": {
      "43c7f9fa-fca3-4c56-8926-928d20e8ce0b": {
       "attrs": {
        "height": 0.8,
        "width": 0.8,
        "x": 0.1,
        "y": 0.1
       },
       "content": {
        "cell": "3148382b-cfb1-4eba-87da-b8c804cd42c3",
        "part": "whole"
       },
       "id": "43c7f9fa-fca3-4c56-8926-928d20e8ce0b"
      }
     }
    },
    "693a38f8-f529-4c68-9c50-0c78c3d82dce": {
     "id": "693a38f8-f529-4c68-9c50-0c78c3d82dce",
     "prev": "ab3d8720-c300-4219-93fa-d72e07f461ba",
     "regions": {
      "6200c2d6-edfe-4453-b69e-49d26707eec6": {
       "attrs": {
        "height": 0.8,
        "width": 0.8,
        "x": 0.1,
        "y": 0.1
       },
       "content": {
        "cell": "e20bd4e0-77d8-4d2a-8f01-fe5357d3aeae",
        "part": "whole"
       },
       "id": "6200c2d6-edfe-4453-b69e-49d26707eec6"
      }
     }
    },
    "7020809b-7063-4f0e-bcc2-07c56ff0c410": {
     "id": "7020809b-7063-4f0e-bcc2-07c56ff0c410",
     "prev": "8b6b4f92-3b52-48cc-89e1-4ee4ea34f686",
     "regions": {
      "a877e817-2aea-4406-9917-b142c83c5beb": {
       "attrs": {
        "height": 0.8,
        "width": 0.8,
        "x": 0.1,
        "y": 0.1
       },
       "content": {
        "cell": "9d42c218-2e86-4409-bce8-37cdb6be3a43",
        "part": "whole"
       },
       "id": "a877e817-2aea-4406-9917-b142c83c5beb"
      }
     }
    },
    "74b319c3-ec52-4cda-a3b1-0b8b8139cb69": {
     "id": "74b319c3-ec52-4cda-a3b1-0b8b8139cb69",
     "prev": "43e94e47-70f5-4b84-a5b9-6a1557b4e7d2",
     "regions": {
      "e4cc59ce-8eb2-448b-b089-29941325b9fe": {
       "attrs": {
        "height": 0.8,
        "width": 0.8,
        "x": 0.1,
        "y": 0.1
       },
       "content": {
        "cell": "781ba8a3-bcc3-45f0-865a-e726c969705d",
        "part": "whole"
       },
       "id": "e4cc59ce-8eb2-448b-b089-29941325b9fe"
      }
     }
    },
    "774e98fa-dac8-4b4c-bb2c-4e2f2e3baa7e": {
     "id": "774e98fa-dac8-4b4c-bb2c-4e2f2e3baa7e",
     "prev": "93c47705-1933-4863-98f1-9d7efcc082b7",
     "regions": {
      "f1c7b05a-c12b-4fb4-8e52-6204a5e587b3": {
       "attrs": {
        "height": 0.8,
        "width": 0.8,
        "x": 0.1,
        "y": 0.1
       },
       "content": {
        "cell": "100479c5-97c4-40ea-b1f7-19f93008aa18",
        "part": "whole"
       },
       "id": "f1c7b05a-c12b-4fb4-8e52-6204a5e587b3"
      }
     }
    },
    "79a05cac-a781-49d2-9ed2-2df1022105a3": {
     "id": "79a05cac-a781-49d2-9ed2-2df1022105a3",
     "prev": "fdfbbe27-807c-41c9-9c57-4c31e0d564e5",
     "regions": {
      "3220e85c-e518-477f-ab9e-f6b4108fd395": {
       "attrs": {
        "height": 0.8,
        "width": 0.8,
        "x": 0.1,
        "y": 0.1
       },
       "content": {
        "cell": "a6f4948c-0973-4b59-a581-53062024f4aa",
        "part": "whole"
       },
       "id": "3220e85c-e518-477f-ab9e-f6b4108fd395"
      }
     }
    },
    "82de0d50-561c-4577-9b57-16a52a4764d7": {
     "id": "82de0d50-561c-4577-9b57-16a52a4764d7",
     "prev": "a2d98809-6a5f-4e3b-81d7-4a677621c6f7",
     "regions": {
      "55531d58-b8a2-499f-b240-41934d60de37": {
       "attrs": {
        "height": 0.8,
        "width": 0.8,
        "x": 0.1,
        "y": 0.1
       },
       "content": {
        "cell": "65588b36-bb13-414d-94a2-fb2918001e99",
        "part": "whole"
       },
       "id": "55531d58-b8a2-499f-b240-41934d60de37"
      }
     }
    },
    "873c4c1d-d8d2-420c-ad16-89ce2d44e336": {
     "id": "873c4c1d-d8d2-420c-ad16-89ce2d44e336",
     "prev": null,
     "regions": {
      "2e8dfcc7-f6f2-479f-94b8-f23e914fd0b4": {
       "attrs": {
        "height": 0.8,
        "width": 0.8,
        "x": 0.1,
        "y": 0.1
       },
       "content": {
        "cell": "20c859b6-455a-477f-8cb4-9b3b0d3d7b87",
        "part": "whole"
       },
       "id": "2e8dfcc7-f6f2-479f-94b8-f23e914fd0b4"
      }
     }
    },
    "8b6b4f92-3b52-48cc-89e1-4ee4ea34f686": {
     "id": "8b6b4f92-3b52-48cc-89e1-4ee4ea34f686",
     "prev": "4569e227-5805-4657-81d3-ea44b9ba7618",
     "regions": {
      "e4d0996a-8a59-4254-8f50-9c3fc41cc45e": {
       "attrs": {
        "height": 0.8,
        "width": 0.8,
        "x": 0.1,
        "y": 0.1
       },
       "content": {
        "cell": "9152850c-5d7a-443f-b996-59c4cdb971e7",
        "part": "whole"
       },
       "id": "e4d0996a-8a59-4254-8f50-9c3fc41cc45e"
      }
     }
    },
    "8f2f1060-e1f4-49ec-ae35-1b75a93f2ba3": {
     "id": "8f2f1060-e1f4-49ec-ae35-1b75a93f2ba3",
     "prev": "82de0d50-561c-4577-9b57-16a52a4764d7",
     "regions": {
      "ba57d551-52cb-4824-b72f-680ba2c402b1": {
       "attrs": {
        "height": 0.8,
        "width": 0.8,
        "x": 0.1,
        "y": 0.1
       },
       "content": {
        "cell": "839d3530-6aa9-4ccd-814d-ceed4f87bb56",
        "part": "whole"
       },
       "id": "ba57d551-52cb-4824-b72f-680ba2c402b1"
      }
     }
    },
    "93c47705-1933-4863-98f1-9d7efcc082b7": {
     "id": "93c47705-1933-4863-98f1-9d7efcc082b7",
     "prev": "cfea0704-615c-4aa6-be67-56db2fdd26a8",
     "regions": {
      "799e6ee3-8261-4b96-a6a7-7548ab656d9b": {
       "attrs": {
        "height": 0.8,
        "width": 0.8,
        "x": 0.1,
        "y": 0.1
       },
       "content": {
        "cell": "3f40854d-04ea-471f-b567-e5f41feb708a",
        "part": "whole"
       },
       "id": "799e6ee3-8261-4b96-a6a7-7548ab656d9b"
      }
     }
    },
    "a001c6f3-9c4f-429e-8ce3-40d1d1db6298": {
     "id": "a001c6f3-9c4f-429e-8ce3-40d1d1db6298",
     "prev": "f27dfeac-8b95-47b3-bb16-c0b2ad906de9",
     "regions": {
      "4fdcdb3a-7eae-4f97-be1c-65d6e22f6caf": {
       "attrs": {
        "height": 0.8,
        "width": 0.8,
        "x": 0.1,
        "y": 0.1
       },
       "content": {
        "cell": "9ca357e5-9105-4d85-8667-7bba3b30412f",
        "part": "whole"
       },
       "id": "4fdcdb3a-7eae-4f97-be1c-65d6e22f6caf"
      }
     }
    },
    "a101e8f9-0f07-4a8c-b988-a802bf2ecc34": {
     "id": "a101e8f9-0f07-4a8c-b988-a802bf2ecc34",
     "prev": "1e7787b7-fc87-4a37-9455-a3cdf8ba8e21",
     "regions": {
      "f0beca0b-d08e-4fa4-9bb8-950c3fa1fb14": {
       "attrs": {
        "height": 0.8,
        "width": 0.8,
        "x": 0.1,
        "y": 0.1
       },
       "content": {
        "cell": "8f0e06a1-9730-4c57-8685-206d574fb8b4",
        "part": "whole"
       },
       "id": "f0beca0b-d08e-4fa4-9bb8-950c3fa1fb14"
      }
     }
    },
    "a2d98809-6a5f-4e3b-81d7-4a677621c6f7": {
     "id": "a2d98809-6a5f-4e3b-81d7-4a677621c6f7",
     "prev": "fbc39b8c-f5a3-43c8-a29c-e2c879bf1e56",
     "regions": {
      "3a519d94-8065-481b-af60-004d813dc7f9": {
       "attrs": {
        "height": 0.8,
        "width": 0.8,
        "x": 0.1,
        "y": 0.1
       },
       "content": {
        "cell": "90d8ab4a-7852-4f07-9201-a9d99b4256a7",
        "part": "whole"
       },
       "id": "3a519d94-8065-481b-af60-004d813dc7f9"
      }
     }
    },
    "a3d66299-e69d-4549-bf5d-cf0ed41fa270": {
     "id": "a3d66299-e69d-4549-bf5d-cf0ed41fa270",
     "prev": "a81e442a-7c90-4a95-80d5-c1ac844133f9",
     "regions": {
      "46eb8b27-774f-477b-8654-0c21e83da5f0": {
       "attrs": {
        "height": 0.8,
        "width": 0.8,
        "x": 0.1,
        "y": 0.1
       },
       "content": {
        "cell": "25114733-3356-4f07-a84e-7f7f8ce5d7ea",
        "part": "whole"
       },
       "id": "46eb8b27-774f-477b-8654-0c21e83da5f0"
      }
     }
    },
    "a5d7f727-bb7c-45d4-81ea-6b71da2b7266": {
     "id": "a5d7f727-bb7c-45d4-81ea-6b71da2b7266",
     "prev": "8f2f1060-e1f4-49ec-ae35-1b75a93f2ba3",
     "regions": {
      "cc153649-853c-4dad-825f-e68c629b39e4": {
       "attrs": {
        "height": 0.8,
        "width": 0.8,
        "x": 0.1,
        "y": 0.1
       },
       "content": {
        "cell": "53f59fbf-5968-47cd-8485-a43a9d5e1dba",
        "part": "whole"
       },
       "id": "cc153649-853c-4dad-825f-e68c629b39e4"
      }
     }
    },
    "a81e442a-7c90-4a95-80d5-c1ac844133f9": {
     "id": "a81e442a-7c90-4a95-80d5-c1ac844133f9",
     "prev": "322fdf21-9917-46bc-9bbd-e32eef5de5c7",
     "regions": {
      "ce3fb6e6-839a-44c4-aa0f-54b9d3f7ce22": {
       "attrs": {
        "height": 0.8,
        "width": 0.8,
        "x": 0.1,
        "y": 0.1
       },
       "content": {
        "cell": "1204b7eb-7238-408c-b072-96024fe34eba",
        "part": "whole"
       },
       "id": "ce3fb6e6-839a-44c4-aa0f-54b9d3f7ce22"
      }
     }
    },
    "ab3d8720-c300-4219-93fa-d72e07f461ba": {
     "id": "ab3d8720-c300-4219-93fa-d72e07f461ba",
     "prev": "3b2a09ea-3757-45bd-9493-1a4150666ac2",
     "regions": {
      "4631915c-6dc1-4964-93ac-1ecdc071669f": {
       "attrs": {
        "height": 0.8,
        "width": 0.8,
        "x": 0.1,
        "y": 0.1
       },
       "content": {
        "cell": "b06b2715-561e-4b04-bfa1-5fa6feeb9aed",
        "part": "whole"
       },
       "id": "4631915c-6dc1-4964-93ac-1ecdc071669f"
      }
     }
    },
    "b1f586bd-013e-4fbe-aa79-b3da2e66d67f": {
     "id": "b1f586bd-013e-4fbe-aa79-b3da2e66d67f",
     "prev": "b91faac7-4086-4b5c-98f3-aa94f49589d6",
     "regions": {
      "d4ebfa8d-28f8-4de3-a5d1-64dd72d94b62": {
       "attrs": {
        "height": 0.8,
        "width": 0.8,
        "x": 0.1,
        "y": 0.1
       },
       "content": {
        "cell": "0e9898ce-cd18-4625-ac41-b236062eff3d",
        "part": "whole"
       },
       "id": "d4ebfa8d-28f8-4de3-a5d1-64dd72d94b62"
      }
     }
    },
    "b91faac7-4086-4b5c-98f3-aa94f49589d6": {
     "id": "b91faac7-4086-4b5c-98f3-aa94f49589d6",
     "prev": "15ea34c6-4c5d-4fc2-815d-096f5ec1965f",
     "regions": {
      "d9dd0251-dfca-4ae2-859b-15bbb776495d": {
       "attrs": {
        "height": 0.8,
        "width": 0.8,
        "x": 0.1,
        "y": 0.1
       },
       "content": {
        "cell": "2475f564-8f71-4da5-bf11-a38ce11e5694",
        "part": "whole"
       },
       "id": "d9dd0251-dfca-4ae2-859b-15bbb776495d"
      }
     }
    },
    "c4a46b0e-a10b-477e-be95-3ec3bd5ade5b": {
     "id": "c4a46b0e-a10b-477e-be95-3ec3bd5ade5b",
     "prev": "693a38f8-f529-4c68-9c50-0c78c3d82dce",
     "regions": {
      "b4d984ec-7007-4f77-8d48-fe2536ca13ca": {
       "attrs": {
        "height": 0.8,
        "width": 0.8,
        "x": 0.1,
        "y": 0.1
       },
       "content": {
        "cell": "79785655-08c9-47d3-841d-3b08b2c11e57",
        "part": "whole"
       },
       "id": "b4d984ec-7007-4f77-8d48-fe2536ca13ca"
      }
     }
    },
    "cfea0704-615c-4aa6-be67-56db2fdd26a8": {
     "id": "cfea0704-615c-4aa6-be67-56db2fdd26a8",
     "prev": "56108da4-2d48-46cd-a564-0534e30f536a",
     "regions": {
      "f01ff8da-a81c-40e6-9b7f-fbf2b130c510": {
       "attrs": {
        "height": 0.8,
        "width": 0.8,
        "x": 0.1,
        "y": 0.1
       },
       "content": {
        "cell": "f611a09f-b7c1-4c14-8ba6-a33e98a8f000",
        "part": "whole"
       },
       "id": "f01ff8da-a81c-40e6-9b7f-fbf2b130c510"
      }
     }
    },
    "e3582670-06d4-49e1-adb2-c7b7539e0529": {
     "id": "e3582670-06d4-49e1-adb2-c7b7539e0529",
     "prev": "c4a46b0e-a10b-477e-be95-3ec3bd5ade5b",
     "regions": {
      "1be02021-ca92-4c3d-99cd-48f35b9b9a0c": {
       "attrs": {
        "height": 0.8,
        "width": 0.8,
        "x": 0.1,
        "y": 0.1
       },
       "content": {
        "cell": "007334d2-0364-4140-a9b2-d803a7ada6c9",
        "part": "whole"
       },
       "id": "1be02021-ca92-4c3d-99cd-48f35b9b9a0c"
      }
     }
    },
    "f22fd39c-ae09-4ad9-8708-8011242b7189": {
     "id": "f22fd39c-ae09-4ad9-8708-8011242b7189",
     "prev": "4df57a66-5c1d-42ef-9c54-41a3d2fb579c",
     "regions": {
      "90d773ba-07b2-402c-8abe-d3ac9e9312d5": {
       "attrs": {
        "height": 0.8,
        "width": 0.8,
        "x": 0.1,
        "y": 0.1
       },
       "content": {
        "cell": "9fc07d52-3633-483b-9b12-479ea5aae7e8",
        "part": "whole"
       },
       "id": "90d773ba-07b2-402c-8abe-d3ac9e9312d5"
      }
     }
    },
    "f27dfeac-8b95-47b3-bb16-c0b2ad906de9": {
     "id": "f27dfeac-8b95-47b3-bb16-c0b2ad906de9",
     "prev": "2400e912-e3f9-4929-82db-021feb297c38",
     "regions": {
      "349c728d-b922-4be6-b3ff-8fe7dcb38b81": {
       "attrs": {
        "height": 0.8,
        "width": 0.8,
        "x": 0.1,
        "y": 0.1
       },
       "content": {
        "cell": "b48e341b-fc30-493b-b035-1fb5ecf29a76",
        "part": "whole"
       },
       "id": "349c728d-b922-4be6-b3ff-8fe7dcb38b81"
      }
     }
    },
    "fbc39b8c-f5a3-43c8-a29c-e2c879bf1e56": {
     "id": "fbc39b8c-f5a3-43c8-a29c-e2c879bf1e56",
     "prev": "774e98fa-dac8-4b4c-bb2c-4e2f2e3baa7e",
     "regions": {
      "509adefe-2378-4a21-8fd3-f2be520eae38": {
       "attrs": {
        "height": 0.8,
        "width": 0.8,
        "x": 0.1,
        "y": 0.1
       },
       "content": {
        "cell": "4eda95e3-3775-46ac-afa4-cde166b9edea",
        "part": "whole"
       },
       "id": "509adefe-2378-4a21-8fd3-f2be520eae38"
      }
     }
    },
    "fdfbbe27-807c-41c9-9c57-4c31e0d564e5": {
     "id": "fdfbbe27-807c-41c9-9c57-4c31e0d564e5",
     "prev": "a101e8f9-0f07-4a8c-b988-a802bf2ecc34",
     "regions": {
      "b132be5b-398c-43f5-977e-e3b46e5b3bf7": {
       "attrs": {
        "height": 0.8,
        "width": 0.8,
        "x": 0.1,
        "y": 0.1
       },
       "content": {
        "cell": "2b18ddac-8db5-44ca-9d37-40b9b44914fe",
        "part": "whole"
       },
       "id": "b132be5b-398c-43f5-977e-e3b46e5b3bf7"
      }
     }
    }
   },
   "themes": {}
  }
 },
 "nbformat": 4,
 "nbformat_minor": 2
}
